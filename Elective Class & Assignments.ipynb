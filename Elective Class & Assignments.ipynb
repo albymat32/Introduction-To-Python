{
 "cells": [
  {
   "cell_type": "markdown",
   "id": "37d774ad",
   "metadata": {},
   "source": [
    "Assignment 1"
   ]
  },
  {
   "cell_type": "code",
   "execution_count": 343,
   "id": "7b7911d3",
   "metadata": {},
   "outputs": [
    {
     "name": "stdout",
     "output_type": "stream",
     "text": [
      "Enter first complex number 1-2j\n",
      "Enter second complex number -6-3j\n",
      "Sum is  (-5-5j)\n",
      "Difference is  (7+1j)\n",
      "Product is  (-12+9j)\n"
     ]
    }
   ],
   "source": [
    "a=complex(input(\"Enter first complex number \"))\n",
    "b=complex(input(\"Enter second complex number \"))\n",
    "print(\"Sum is \",a+b)\n",
    "print(\"Difference is \",a-b)\n",
    "print(\"Product is \",a*b)"
   ]
  },
  {
   "cell_type": "code",
   "execution_count": 344,
   "id": "d435b4e0",
   "metadata": {},
   "outputs": [
    {
     "name": "stdout",
     "output_type": "stream",
     "text": [
      "Enter your ph_no8887865565\n",
      "The last two numbers of 8887865565 is: 65\n",
      "0b1000001 in binary.\n",
      "0o101 in octal.\n",
      "0x41 in hexadecimal.\n"
     ]
    }
   ],
   "source": [
    "ph_no=int(input(\"Enter your ph_no\"))\n",
    "last_two= ph_no % 100\n",
    "print(\"The last two numbers of\",ph_no, \"is:\",last_two)\n",
    "print(bin(last_two), \"in binary.\")\n",
    "print(oct(last_two), \"in octal.\")\n",
    "print(hex(last_two), \"in hexadecimal.\")"
   ]
  },
  {
   "cell_type": "code",
   "execution_count": 345,
   "id": "fa02b728",
   "metadata": {},
   "outputs": [
    {
     "name": "stdout",
     "output_type": "stream",
     "text": [
      "Input hex value ff\n",
      "0b11111111 in binary.\n",
      "0o377 in octal.\n",
      "255 in decimal.\n"
     ]
    }
   ],
   "source": [
    "hexV = (input(\"Input hex value \"))\n",
    "hexDec=int(hexV,16)\n",
    "print(bin(hexDec), \"in binary.\")\n",
    "print(oct(hexDec), \"in octal.\")\n",
    "print(int(hexDec), \"in decimal.\")"
   ]
  },
  {
   "cell_type": "code",
   "execution_count": 16,
   "id": "cded667e",
   "metadata": {},
   "outputs": [
    {
     "name": "stdout",
     "output_type": "stream",
     "text": [
      "Enter x cordinate of Center0\n",
      "Enter y cordinate of Center0\n",
      "Enter x cordinate of Point on circle3\n",
      "Enter y cordinate of Point on circle4\n",
      "Radius is  5.0\n",
      "Area is  78.53981633974483\n"
     ]
    }
   ],
   "source": [
    "import math as m\n",
    "xc=int(input(\"Enter x cordinate of Center\"))\n",
    "yc=int(input(\"Enter y cordinate of Center\"))\n",
    "x1=int(input(\"Enter x cordinate of Point on circle\"))\n",
    "y1=int(input(\"Enter y cordinate of Point on circle\"))\n",
    "r= ((abs(x1-xc)**2)+(abs(y1-yc)**2))**0.5\n",
    "print(\"Radius is \",r)\n",
    "print(\"Area is \", m.pi*r**2)"
   ]
  },
  {
   "cell_type": "code",
   "execution_count": 347,
   "id": "177aef27",
   "metadata": {},
   "outputs": [
    {
     "name": "stdout",
     "output_type": "stream",
     "text": [
      "Enter time in seconds 120\n",
      "0:02:00\n"
     ]
    }
   ],
   "source": [
    "\n",
    "    sec=int(input(\"Enter time in seconds \"))\n",
    "    sec = sec % (24 * 3600)\n",
    "    hour = sec // 3600\n",
    "    sec %= 3600\n",
    "    minutes = sec // 60\n",
    "    sec %= 60\n",
    "     \n",
    "    print(\"%d:%02d:%02d\" % (hour, minutes, sec))\n"
   ]
  },
  {
   "cell_type": "code",
   "execution_count": 348,
   "id": "bb4ef95c",
   "metadata": {},
   "outputs": [
    {
     "name": "stdout",
     "output_type": "stream",
     "text": [
      "Enter the no.16\n",
      "0b10000 in binary.\n",
      "0o20 in octal.\n",
      "0x10 in hexadecimal.\n"
     ]
    }
   ],
   "source": [
    "no=int(input(\"Enter the no.\"))\n",
    "print(bin(no), \"in binary.\")\n",
    "print(oct(no), \"in octal.\")\n",
    "print(hex(no), \"in hexadecimal.\")"
   ]
  },
  {
   "cell_type": "code",
   "execution_count": 3,
   "id": "03b2be0d",
   "metadata": {},
   "outputs": [
    {
     "name": "stdout",
     "output_type": "stream",
     "text": [
      "Enter First number : 89\n",
      "Enter Second number : 54\n",
      "Enter Third number : 75\n",
      "The largest of the 3 numbers is :  89\n",
      "The smallest of the 3 numbers is :  54\n"
     ]
    }
   ],
   "source": [
    "no1 = int(input('Enter First number : '))\n",
    "no2 = int(input('Enter Second number : '))\n",
    "no3 = int(input('Enter Third number : '))\n",
    "sq = [no1, no2, no3]\n",
    "print(\"The largest of the 3 numbers is : \", max(sq))\n",
    "print(\"The smallest of the 3 numbers is : \", min(sq))"
   ]
  },
  {
   "cell_type": "code",
   "execution_count": 4,
   "id": "9388b870",
   "metadata": {},
   "outputs": [
    {
     "name": "stdout",
     "output_type": "stream",
     "text": [
      "Enter the birth year: 2002\n",
      "Enter the birth month: 07\n",
      "     July 2002\n",
      "Mo Tu We Th Fr Sa Su\n",
      " 1  2  3  4  5  6  7\n",
      " 8  9 10 11 12 13 14\n",
      "15 16 17 18 19 20 21\n",
      "22 23 24 25 26 27 28\n",
      "29 30 31\n",
      "\n"
     ]
    }
   ],
   "source": [
    "import calendar\n",
    "y = int(input(\"Enter the birth year: \"))\n",
    "m = int(input(\"Enter the birth month: \"))\n",
    "print(calendar.month(y, m))\n"
   ]
  },
  {
   "cell_type": "code",
   "execution_count": 213,
   "id": "381f99c8",
   "metadata": {},
   "outputs": [
    {
     "name": "stdout",
     "output_type": "stream",
     "text": [
      "Enter a number : 5\n",
      "The factorial of  5 is  120\n",
      "The number digits is  3\n"
     ]
    }
   ],
   "source": [
    "import math as m\n",
    "\n",
    "n = int(input(\"Enter a number : \"))\n",
    "fact=m.factorial(n)\n",
    "print(\"The factorial of \",n,\"is \",fact)\n",
    "print(\"The number digits is \",m.floor(m.log10(fact)+1))\n"
   ]
  },
  {
   "cell_type": "code",
   "execution_count": 349,
   "id": "b7043fb5",
   "metadata": {},
   "outputs": [
    {
     "name": "stdout",
     "output_type": "stream",
     "text": [
      "Enter a number :185876\n",
      "The number digits is  6\n",
      "First number  1 Square Root 1.0\n",
      "Last number  6 Square Root 2.449489742783178\n"
     ]
    }
   ],
   "source": [
    "import math as m\n",
    "\n",
    "n = int(input(\"Enter a number :\"))\n",
    "tot=(int)(m.floor(m.log10(n)+1))\n",
    "print(\"The number digits is \",tot)\n",
    "tot=tot-1\n",
    "first=(int)(n/pow(10,tot))\n",
    "last=n%10\n",
    "print(\"First number \",first,\"Square Root\",m.sqrt(first))\n",
    "print(\"Last number \",last,\"Square Root\",m.sqrt(last))"
   ]
  },
  {
   "cell_type": "code",
   "execution_count": 24,
   "id": "a4965728",
   "metadata": {
    "scrolled": true
   },
   "outputs": [
    {
     "name": "stdout",
     "output_type": "stream",
     "text": [
      "Enter year:2004\n",
      "Leap Year\n",
      "Enter year:2000\n",
      "Leap Year\n",
      "Enter year:2005\n",
      "Not Leap Year\n",
      "Enter year:1947\n",
      "Not Leap Year\n"
     ]
    },
    {
     "ename": "KeyboardInterrupt",
     "evalue": "Interrupted by user",
     "output_type": "error",
     "traceback": [
      "\u001b[1;31m---------------------------------------------------------------------------\u001b[0m",
      "\u001b[1;31mKeyboardInterrupt\u001b[0m                         Traceback (most recent call last)",
      "Input \u001b[1;32mIn [24]\u001b[0m, in \u001b[0;36m<cell line: 2>\u001b[1;34m()\u001b[0m\n\u001b[0;32m      1\u001b[0m i\u001b[38;5;241m=\u001b[39m\u001b[38;5;241m0\u001b[39m\n\u001b[0;32m      2\u001b[0m \u001b[38;5;28;01mwhile\u001b[39;00m(i\u001b[38;5;241m<\u001b[39m\u001b[38;5;241m2\u001b[39m):\n\u001b[1;32m----> 3\u001b[0m     Year \u001b[38;5;241m=\u001b[39m \u001b[38;5;28mint\u001b[39m(\u001b[38;5;28;43minput\u001b[39;49m\u001b[43m(\u001b[49m\u001b[38;5;124;43m\"\u001b[39;49m\u001b[38;5;124;43mEnter year:\u001b[39;49m\u001b[38;5;124;43m\"\u001b[39;49m\u001b[43m)\u001b[49m) \n\u001b[0;32m      5\u001b[0m     \u001b[38;5;28;01mif\u001b[39;00m((Year \u001b[38;5;241m%\u001b[39m \u001b[38;5;241m400\u001b[39m \u001b[38;5;241m==\u001b[39m \u001b[38;5;241m0\u001b[39m) \u001b[38;5;129;01mor\u001b[39;00m  \n\u001b[0;32m      6\u001b[0m         (Year \u001b[38;5;241m%\u001b[39m \u001b[38;5;241m100\u001b[39m \u001b[38;5;241m!=\u001b[39m \u001b[38;5;241m0\u001b[39m) \u001b[38;5;129;01mand\u001b[39;00m  \n\u001b[0;32m      7\u001b[0m         (Year \u001b[38;5;241m%\u001b[39m \u001b[38;5;241m4\u001b[39m \u001b[38;5;241m==\u001b[39m \u001b[38;5;241m0\u001b[39m)):   \n\u001b[0;32m      8\u001b[0m         \u001b[38;5;28mprint\u001b[39m(\u001b[38;5;124m\"\u001b[39m\u001b[38;5;124mLeap Year\u001b[39m\u001b[38;5;124m\"\u001b[39m);    \n",
      "File \u001b[1;32mC:\\ProgramData\\Anaconda3\\lib\\site-packages\\ipykernel\\kernelbase.py:1075\u001b[0m, in \u001b[0;36mKernel.raw_input\u001b[1;34m(self, prompt)\u001b[0m\n\u001b[0;32m   1071\u001b[0m \u001b[38;5;28;01mif\u001b[39;00m \u001b[38;5;129;01mnot\u001b[39;00m \u001b[38;5;28mself\u001b[39m\u001b[38;5;241m.\u001b[39m_allow_stdin:\n\u001b[0;32m   1072\u001b[0m     \u001b[38;5;28;01mraise\u001b[39;00m StdinNotImplementedError(\n\u001b[0;32m   1073\u001b[0m         \u001b[38;5;124m\"\u001b[39m\u001b[38;5;124mraw_input was called, but this frontend does not support input requests.\u001b[39m\u001b[38;5;124m\"\u001b[39m\n\u001b[0;32m   1074\u001b[0m     )\n\u001b[1;32m-> 1075\u001b[0m \u001b[38;5;28;01mreturn\u001b[39;00m \u001b[38;5;28;43mself\u001b[39;49m\u001b[38;5;241;43m.\u001b[39;49m\u001b[43m_input_request\u001b[49m\u001b[43m(\u001b[49m\n\u001b[0;32m   1076\u001b[0m \u001b[43m    \u001b[49m\u001b[38;5;28;43mstr\u001b[39;49m\u001b[43m(\u001b[49m\u001b[43mprompt\u001b[49m\u001b[43m)\u001b[49m\u001b[43m,\u001b[49m\n\u001b[0;32m   1077\u001b[0m \u001b[43m    \u001b[49m\u001b[38;5;28;43mself\u001b[39;49m\u001b[38;5;241;43m.\u001b[39;49m\u001b[43m_parent_ident\u001b[49m\u001b[43m[\u001b[49m\u001b[38;5;124;43m\"\u001b[39;49m\u001b[38;5;124;43mshell\u001b[39;49m\u001b[38;5;124;43m\"\u001b[39;49m\u001b[43m]\u001b[49m\u001b[43m,\u001b[49m\n\u001b[0;32m   1078\u001b[0m \u001b[43m    \u001b[49m\u001b[38;5;28;43mself\u001b[39;49m\u001b[38;5;241;43m.\u001b[39;49m\u001b[43mget_parent\u001b[49m\u001b[43m(\u001b[49m\u001b[38;5;124;43m\"\u001b[39;49m\u001b[38;5;124;43mshell\u001b[39;49m\u001b[38;5;124;43m\"\u001b[39;49m\u001b[43m)\u001b[49m\u001b[43m,\u001b[49m\n\u001b[0;32m   1079\u001b[0m \u001b[43m    \u001b[49m\u001b[43mpassword\u001b[49m\u001b[38;5;241;43m=\u001b[39;49m\u001b[38;5;28;43;01mFalse\u001b[39;49;00m\u001b[43m,\u001b[49m\n\u001b[0;32m   1080\u001b[0m \u001b[43m\u001b[49m\u001b[43m)\u001b[49m\n",
      "File \u001b[1;32mC:\\ProgramData\\Anaconda3\\lib\\site-packages\\ipykernel\\kernelbase.py:1120\u001b[0m, in \u001b[0;36mKernel._input_request\u001b[1;34m(self, prompt, ident, parent, password)\u001b[0m\n\u001b[0;32m   1117\u001b[0m             \u001b[38;5;28;01mbreak\u001b[39;00m\n\u001b[0;32m   1118\u001b[0m \u001b[38;5;28;01mexcept\u001b[39;00m \u001b[38;5;167;01mKeyboardInterrupt\u001b[39;00m:\n\u001b[0;32m   1119\u001b[0m     \u001b[38;5;66;03m# re-raise KeyboardInterrupt, to truncate traceback\u001b[39;00m\n\u001b[1;32m-> 1120\u001b[0m     \u001b[38;5;28;01mraise\u001b[39;00m \u001b[38;5;167;01mKeyboardInterrupt\u001b[39;00m(\u001b[38;5;124m\"\u001b[39m\u001b[38;5;124mInterrupted by user\u001b[39m\u001b[38;5;124m\"\u001b[39m) \u001b[38;5;28;01mfrom\u001b[39;00m \u001b[38;5;28mNone\u001b[39m\n\u001b[0;32m   1121\u001b[0m \u001b[38;5;28;01mexcept\u001b[39;00m \u001b[38;5;167;01mException\u001b[39;00m:\n\u001b[0;32m   1122\u001b[0m     \u001b[38;5;28mself\u001b[39m\u001b[38;5;241m.\u001b[39mlog\u001b[38;5;241m.\u001b[39mwarning(\u001b[38;5;124m\"\u001b[39m\u001b[38;5;124mInvalid Message:\u001b[39m\u001b[38;5;124m\"\u001b[39m, exc_info\u001b[38;5;241m=\u001b[39m\u001b[38;5;28;01mTrue\u001b[39;00m)\n",
      "\u001b[1;31mKeyboardInterrupt\u001b[0m: Interrupted by user"
     ]
    }
   ],
   "source": [
    "i=0\n",
    "while(i<2):\n",
    "    Year = int(input(\"Enter year:\")) \n",
    "\n",
    "    if((Year % 400 == 0) or  \n",
    "        (Year % 100 != 0) and  \n",
    "        (Year % 4 == 0)):   \n",
    "        print(\"Leap Year\");    \n",
    "    else:  \n",
    "       print(\"Not Leap Year\")\n",
    "i+=1"
   ]
  },
  {
   "cell_type": "code",
   "execution_count": 33,
   "id": "2595fcda",
   "metadata": {},
   "outputs": [
    {
     "name": "stdout",
     "output_type": "stream",
     "text": [
      "Enter a number89\n",
      "8  is the sum\n",
      "Enter a number45\n",
      "9 is the sum\n",
      "Enter a number235\n",
      "1  is the sum\n"
     ]
    }
   ],
   "source": [
    "i = 1\n",
    "while i < 4:\n",
    "   \n",
    "  r=int(input(\"Enter a number\"))\n",
    "\n",
    "  if r%9==0:\n",
    "      print('9 is the sum')\n",
    "  else:\n",
    "      print(r%9,\" is the sum\")\n",
    "  i += 1\n"
   ]
  },
  {
   "cell_type": "code",
   "execution_count": 100,
   "id": "21a786b3",
   "metadata": {},
   "outputs": [
    {
     "name": "stdout",
     "output_type": "stream",
     "text": [
      "Enter a number32\n",
      "32 Is a power of two\n",
      "Enter a number1024\n",
      "1024 Is a power of two\n",
      "Enter a number56\n",
      "56 Is not a power of two\n",
      "Enter a number87\n",
      "87 Is not a power of two\n"
     ]
    }
   ],
   "source": [
    "i = 1\n",
    "while i < 5:\n",
    "   \n",
    " x=int(input(\"Enter a number\"))\n",
    " if(x and (not(x & (x - 1))) ):\n",
    "     print(x,\"Is a power of two\")       \n",
    " else:\n",
    "     print(x,\"Is not a power of two\")\n",
    " i += 1"
   ]
  },
  {
   "cell_type": "code",
   "execution_count": 103,
   "id": "1f5302e2",
   "metadata": {},
   "outputs": [
    {
     "name": "stdout",
     "output_type": "stream",
     "text": [
      "Enter X coordinate1\n",
      "Enter Y coordinate2\n",
      "( 1 , 2 ) belongs to 1st Quadrant.\n",
      "Enter X coordinate-5\n",
      "Enter Y coordinate-6\n",
      "( -5 , -6 ) belongs to 3rd Quadrant.\n",
      "Enter X coordinate3\n",
      "Enter Y coordinate-6\n",
      "( 3 , -6 ) belongs to 4th Quadrant.\n",
      "Enter X coordinate-6\n",
      "Enter Y coordinate8\n",
      "( -6 , 8 ) belongs to 2nd Quadrant.\n"
     ]
    }
   ],
   "source": [
    "i = 1\n",
    "while i < 5:\n",
    " x = int(input(\"Enter X coordinate\"))\n",
    " y = int(input(\"Enter Y coordinate\"))\n",
    " \n",
    " print(\"(\",x,\",\",y,\")\",end=\"\")\n",
    " if(x>0 and y>0):\n",
    "    print(\" belongs to 1st Quadrant.\")\n",
    " elif(x<0 and y>0):   \n",
    "    print(\" belongs to 2nd Quadrant.\")\n",
    " elif(x<0 and y<0):    \n",
    "    print(\" belongs to 3rd Quadrant.\")\n",
    " else:\n",
    "    print(\" belongs to 4th Quadrant.\")\n",
    " i+=1"
   ]
  },
  {
   "cell_type": "code",
   "execution_count": 112,
   "id": "c1f12692",
   "metadata": {},
   "outputs": [
    {
     "name": "stdout",
     "output_type": "stream",
     "text": [
      "Enter a number -8\n",
      "Absolute value  8\n",
      "Enter a number 9\n",
      "Absolute value  9\n",
      "Enter a number -65\n",
      "Absolute value  65\n"
     ]
    }
   ],
   "source": [
    "i = 1\n",
    "while i < 4:\n",
    " x=int(input(\"Enter a number \"))\n",
    " if x >= 0:\n",
    "    print(\"Absolute value \",x)\n",
    " else:\n",
    "    print(\"Absolute value \",-x)\n",
    " i+=1\n",
    "    "
   ]
  },
  {
   "cell_type": "code",
   "execution_count": 175,
   "id": "73cc5744",
   "metadata": {},
   "outputs": [
    {
     "name": "stdout",
     "output_type": "stream",
     "text": [
      "Enter a:1\n",
      "Enter b:-7\n",
      "Enter c:10\n",
      " Real and Different Roots \n",
      "5.0\n",
      "2.0\n",
      "Enter a:1\n",
      "Enter b:2\n",
      "Enter c:1\n",
      " Real and Same Roots\n",
      "-1.0\n",
      "Enter a:4\n",
      "Enter b:1\n",
      "Enter c:6\n",
      "Complex Roots\n",
      "-0.125  + i 9.746794344808963\n",
      "-0.125  - i 9.746794344808963\n"
     ]
    }
   ],
   "source": [
    "import math  \n",
    "i = 1\n",
    "while i < 4:\n",
    " a = int(input('Enter a:')) \n",
    "    #if a == 0:  \n",
    "     #   print(\"Input correct quadratic equation\")\n",
    "    #else:\n",
    " b = int(input('Enter b:'))  \n",
    " c = int(input('Enter c:')) \n",
    " d = b * b - (4 * a * c)  \n",
    " sqrt_d = math.sqrt(abs(d)) \n",
    " if d > 0:\n",
    "  print(\" Real and Different Roots \")  \n",
    "  print((-b + sqrt_d) / (2 * a))  \n",
    "  print((-b - sqrt_d) / (2 * a))    \n",
    " elif d == 0:  \n",
    "     print(\" Real and Same Roots\")  \n",
    "     print(-b / (2 * a))  \n",
    " else:\n",
    "         print(\"Complex Roots\")  \n",
    "         print(- b / (2 * a), \" + i\", sqrt_d) \n",
    "         print(- b / (2 * a), \" - i\", sqrt_d)\n",
    " i+=1\n",
    "    "
   ]
  },
  {
   "cell_type": "code",
   "execution_count": 212,
   "id": "6f3e29e7",
   "metadata": {},
   "outputs": [
    {
     "name": "stdout",
     "output_type": "stream",
     "text": [
      "3 4 5\n",
      "Right Triangle\n",
      "7 8 9\n",
      "Not Right Triangle\n"
     ]
    }
   ],
   "source": [
    "i = 1\n",
    "while i < 3:\n",
    "    sides=list(map(int,input().split()))\n",
    "    x,y,z = sorted(sides)\n",
    "    if x**2+y**2==z**2:\n",
    "         print('Right Triangle')\n",
    "    else:\n",
    "        print('Not Right Triangle')\n",
    "    i+=1 "
   ]
  },
  {
   "cell_type": "code",
   "execution_count": 216,
   "id": "0abcd066",
   "metadata": {},
   "outputs": [
    {
     "name": "stdout",
     "output_type": "stream",
     "text": [
      "\n",
      "Enter number of terms3\n",
      "Fibonacci series is:  0 1 0 \n",
      "Enter number of terms5\n",
      "Fibonacci series is:  0 1 0 1 1 "
     ]
    },
    {
     "ename": "KeyboardInterrupt",
     "evalue": "Interrupted by user",
     "output_type": "error",
     "traceback": [
      "\u001b[1;31m---------------------------------------------------------------------------\u001b[0m",
      "\u001b[1;31mKeyboardInterrupt\u001b[0m                         Traceback (most recent call last)",
      "Input \u001b[1;32mIn [216]\u001b[0m, in \u001b[0;36m<cell line: 2>\u001b[1;34m()\u001b[0m\n\u001b[0;32m      1\u001b[0m i\u001b[38;5;241m=\u001b[39m\u001b[38;5;241m1\u001b[39m\n\u001b[0;32m      2\u001b[0m \u001b[38;5;28;01mwhile\u001b[39;00m i\u001b[38;5;241m<\u001b[39m\u001b[38;5;241m3\u001b[39m:\n\u001b[1;32m----> 3\u001b[0m  n \u001b[38;5;241m=\u001b[39m \u001b[38;5;28mint\u001b[39m(\u001b[38;5;28;43minput\u001b[39;49m\u001b[43m(\u001b[49m\u001b[38;5;124;43m\"\u001b[39;49m\u001b[38;5;130;43;01m\\n\u001b[39;49;00m\u001b[38;5;124;43mEnter number of terms\u001b[39;49m\u001b[38;5;124;43m\"\u001b[39;49m\u001b[43m)\u001b[49m)\n\u001b[0;32m      4\u001b[0m  a \u001b[38;5;241m=\u001b[39m \u001b[38;5;241m0\u001b[39m\n\u001b[0;32m      5\u001b[0m  b \u001b[38;5;241m=\u001b[39m \u001b[38;5;241m1\u001b[39m\n",
      "File \u001b[1;32mC:\\ProgramData\\Anaconda3\\lib\\site-packages\\ipykernel\\kernelbase.py:1075\u001b[0m, in \u001b[0;36mKernel.raw_input\u001b[1;34m(self, prompt)\u001b[0m\n\u001b[0;32m   1071\u001b[0m \u001b[38;5;28;01mif\u001b[39;00m \u001b[38;5;129;01mnot\u001b[39;00m \u001b[38;5;28mself\u001b[39m\u001b[38;5;241m.\u001b[39m_allow_stdin:\n\u001b[0;32m   1072\u001b[0m     \u001b[38;5;28;01mraise\u001b[39;00m StdinNotImplementedError(\n\u001b[0;32m   1073\u001b[0m         \u001b[38;5;124m\"\u001b[39m\u001b[38;5;124mraw_input was called, but this frontend does not support input requests.\u001b[39m\u001b[38;5;124m\"\u001b[39m\n\u001b[0;32m   1074\u001b[0m     )\n\u001b[1;32m-> 1075\u001b[0m \u001b[38;5;28;01mreturn\u001b[39;00m \u001b[38;5;28;43mself\u001b[39;49m\u001b[38;5;241;43m.\u001b[39;49m\u001b[43m_input_request\u001b[49m\u001b[43m(\u001b[49m\n\u001b[0;32m   1076\u001b[0m \u001b[43m    \u001b[49m\u001b[38;5;28;43mstr\u001b[39;49m\u001b[43m(\u001b[49m\u001b[43mprompt\u001b[49m\u001b[43m)\u001b[49m\u001b[43m,\u001b[49m\n\u001b[0;32m   1077\u001b[0m \u001b[43m    \u001b[49m\u001b[38;5;28;43mself\u001b[39;49m\u001b[38;5;241;43m.\u001b[39;49m\u001b[43m_parent_ident\u001b[49m\u001b[43m[\u001b[49m\u001b[38;5;124;43m\"\u001b[39;49m\u001b[38;5;124;43mshell\u001b[39;49m\u001b[38;5;124;43m\"\u001b[39;49m\u001b[43m]\u001b[49m\u001b[43m,\u001b[49m\n\u001b[0;32m   1078\u001b[0m \u001b[43m    \u001b[49m\u001b[38;5;28;43mself\u001b[39;49m\u001b[38;5;241;43m.\u001b[39;49m\u001b[43mget_parent\u001b[49m\u001b[43m(\u001b[49m\u001b[38;5;124;43m\"\u001b[39;49m\u001b[38;5;124;43mshell\u001b[39;49m\u001b[38;5;124;43m\"\u001b[39;49m\u001b[43m)\u001b[49m\u001b[43m,\u001b[49m\n\u001b[0;32m   1079\u001b[0m \u001b[43m    \u001b[49m\u001b[43mpassword\u001b[49m\u001b[38;5;241;43m=\u001b[39;49m\u001b[38;5;28;43;01mFalse\u001b[39;49;00m\u001b[43m,\u001b[49m\n\u001b[0;32m   1080\u001b[0m \u001b[43m\u001b[49m\u001b[43m)\u001b[49m\n",
      "File \u001b[1;32mC:\\ProgramData\\Anaconda3\\lib\\site-packages\\ipykernel\\kernelbase.py:1120\u001b[0m, in \u001b[0;36mKernel._input_request\u001b[1;34m(self, prompt, ident, parent, password)\u001b[0m\n\u001b[0;32m   1117\u001b[0m             \u001b[38;5;28;01mbreak\u001b[39;00m\n\u001b[0;32m   1118\u001b[0m \u001b[38;5;28;01mexcept\u001b[39;00m \u001b[38;5;167;01mKeyboardInterrupt\u001b[39;00m:\n\u001b[0;32m   1119\u001b[0m     \u001b[38;5;66;03m# re-raise KeyboardInterrupt, to truncate traceback\u001b[39;00m\n\u001b[1;32m-> 1120\u001b[0m     \u001b[38;5;28;01mraise\u001b[39;00m \u001b[38;5;167;01mKeyboardInterrupt\u001b[39;00m(\u001b[38;5;124m\"\u001b[39m\u001b[38;5;124mInterrupted by user\u001b[39m\u001b[38;5;124m\"\u001b[39m) \u001b[38;5;28;01mfrom\u001b[39;00m \u001b[38;5;28mNone\u001b[39m\n\u001b[0;32m   1121\u001b[0m \u001b[38;5;28;01mexcept\u001b[39;00m \u001b[38;5;167;01mException\u001b[39;00m:\n\u001b[0;32m   1122\u001b[0m     \u001b[38;5;28mself\u001b[39m\u001b[38;5;241m.\u001b[39mlog\u001b[38;5;241m.\u001b[39mwarning(\u001b[38;5;124m\"\u001b[39m\u001b[38;5;124mInvalid Message:\u001b[39m\u001b[38;5;124m\"\u001b[39m, exc_info\u001b[38;5;241m=\u001b[39m\u001b[38;5;28;01mTrue\u001b[39;00m)\n",
      "\u001b[1;31mKeyboardInterrupt\u001b[0m: Interrupted by user"
     ]
    }
   ],
   "source": [
    "i=1\n",
    "while i<3:\n",
    " n = int(input(\"\\nEnter number of terms\"))\n",
    " a = 0\n",
    " b = 1\n",
    " sum = 0\n",
    " count = 1\n",
    " print(\"Fibonacci series is: \", end = \" \")\n",
    " while(count <= n):\n",
    "   count += 1\n",
    "   print(a, end=\" \")\n",
    "   a = b\n",
    "   b = sum\n",
    "   sum = a + b\n",
    "i+=1"
   ]
  },
  {
   "cell_type": "code",
   "execution_count": 222,
   "id": "135d1b37",
   "metadata": {},
   "outputs": [
    {
     "name": "stdout",
     "output_type": "stream",
     "text": [
      "\n",
      "Enter number12478\n",
      "Reversed Number: 87421\n",
      "\n",
      "Enter number984752\n",
      "Reversed Number: 257489\n"
     ]
    },
    {
     "ename": "KeyboardInterrupt",
     "evalue": "Interrupted by user",
     "output_type": "error",
     "traceback": [
      "\u001b[1;31m---------------------------------------------------------------------------\u001b[0m",
      "\u001b[1;31mKeyboardInterrupt\u001b[0m                         Traceback (most recent call last)",
      "Input \u001b[1;32mIn [222]\u001b[0m, in \u001b[0;36m<cell line: 2>\u001b[1;34m()\u001b[0m\n\u001b[0;32m      1\u001b[0m i\u001b[38;5;241m=\u001b[39m\u001b[38;5;241m1\u001b[39m\n\u001b[0;32m      2\u001b[0m \u001b[38;5;28;01mwhile\u001b[39;00m i\u001b[38;5;241m<\u001b[39m\u001b[38;5;241m3\u001b[39m:\n\u001b[1;32m----> 3\u001b[0m   num \u001b[38;5;241m=\u001b[39m \u001b[38;5;28mint\u001b[39m(\u001b[38;5;28;43minput\u001b[39;49m\u001b[43m(\u001b[49m\u001b[38;5;124;43m\"\u001b[39;49m\u001b[38;5;130;43;01m\\n\u001b[39;49;00m\u001b[38;5;124;43mEnter number\u001b[39;49m\u001b[38;5;124;43m\"\u001b[39;49m\u001b[43m)\u001b[49m)\n\u001b[0;32m      4\u001b[0m   reversed_num \u001b[38;5;241m=\u001b[39m \u001b[38;5;241m0\u001b[39m\n\u001b[0;32m      6\u001b[0m   \u001b[38;5;28;01mwhile\u001b[39;00m num \u001b[38;5;241m!=\u001b[39m \u001b[38;5;241m0\u001b[39m:\n",
      "File \u001b[1;32mC:\\ProgramData\\Anaconda3\\lib\\site-packages\\ipykernel\\kernelbase.py:1075\u001b[0m, in \u001b[0;36mKernel.raw_input\u001b[1;34m(self, prompt)\u001b[0m\n\u001b[0;32m   1071\u001b[0m \u001b[38;5;28;01mif\u001b[39;00m \u001b[38;5;129;01mnot\u001b[39;00m \u001b[38;5;28mself\u001b[39m\u001b[38;5;241m.\u001b[39m_allow_stdin:\n\u001b[0;32m   1072\u001b[0m     \u001b[38;5;28;01mraise\u001b[39;00m StdinNotImplementedError(\n\u001b[0;32m   1073\u001b[0m         \u001b[38;5;124m\"\u001b[39m\u001b[38;5;124mraw_input was called, but this frontend does not support input requests.\u001b[39m\u001b[38;5;124m\"\u001b[39m\n\u001b[0;32m   1074\u001b[0m     )\n\u001b[1;32m-> 1075\u001b[0m \u001b[38;5;28;01mreturn\u001b[39;00m \u001b[38;5;28;43mself\u001b[39;49m\u001b[38;5;241;43m.\u001b[39;49m\u001b[43m_input_request\u001b[49m\u001b[43m(\u001b[49m\n\u001b[0;32m   1076\u001b[0m \u001b[43m    \u001b[49m\u001b[38;5;28;43mstr\u001b[39;49m\u001b[43m(\u001b[49m\u001b[43mprompt\u001b[49m\u001b[43m)\u001b[49m\u001b[43m,\u001b[49m\n\u001b[0;32m   1077\u001b[0m \u001b[43m    \u001b[49m\u001b[38;5;28;43mself\u001b[39;49m\u001b[38;5;241;43m.\u001b[39;49m\u001b[43m_parent_ident\u001b[49m\u001b[43m[\u001b[49m\u001b[38;5;124;43m\"\u001b[39;49m\u001b[38;5;124;43mshell\u001b[39;49m\u001b[38;5;124;43m\"\u001b[39;49m\u001b[43m]\u001b[49m\u001b[43m,\u001b[49m\n\u001b[0;32m   1078\u001b[0m \u001b[43m    \u001b[49m\u001b[38;5;28;43mself\u001b[39;49m\u001b[38;5;241;43m.\u001b[39;49m\u001b[43mget_parent\u001b[49m\u001b[43m(\u001b[49m\u001b[38;5;124;43m\"\u001b[39;49m\u001b[38;5;124;43mshell\u001b[39;49m\u001b[38;5;124;43m\"\u001b[39;49m\u001b[43m)\u001b[49m\u001b[43m,\u001b[49m\n\u001b[0;32m   1079\u001b[0m \u001b[43m    \u001b[49m\u001b[43mpassword\u001b[49m\u001b[38;5;241;43m=\u001b[39;49m\u001b[38;5;28;43;01mFalse\u001b[39;49;00m\u001b[43m,\u001b[49m\n\u001b[0;32m   1080\u001b[0m \u001b[43m\u001b[49m\u001b[43m)\u001b[49m\n",
      "File \u001b[1;32mC:\\ProgramData\\Anaconda3\\lib\\site-packages\\ipykernel\\kernelbase.py:1120\u001b[0m, in \u001b[0;36mKernel._input_request\u001b[1;34m(self, prompt, ident, parent, password)\u001b[0m\n\u001b[0;32m   1117\u001b[0m             \u001b[38;5;28;01mbreak\u001b[39;00m\n\u001b[0;32m   1118\u001b[0m \u001b[38;5;28;01mexcept\u001b[39;00m \u001b[38;5;167;01mKeyboardInterrupt\u001b[39;00m:\n\u001b[0;32m   1119\u001b[0m     \u001b[38;5;66;03m# re-raise KeyboardInterrupt, to truncate traceback\u001b[39;00m\n\u001b[1;32m-> 1120\u001b[0m     \u001b[38;5;28;01mraise\u001b[39;00m \u001b[38;5;167;01mKeyboardInterrupt\u001b[39;00m(\u001b[38;5;124m\"\u001b[39m\u001b[38;5;124mInterrupted by user\u001b[39m\u001b[38;5;124m\"\u001b[39m) \u001b[38;5;28;01mfrom\u001b[39;00m \u001b[38;5;28mNone\u001b[39m\n\u001b[0;32m   1121\u001b[0m \u001b[38;5;28;01mexcept\u001b[39;00m \u001b[38;5;167;01mException\u001b[39;00m:\n\u001b[0;32m   1122\u001b[0m     \u001b[38;5;28mself\u001b[39m\u001b[38;5;241m.\u001b[39mlog\u001b[38;5;241m.\u001b[39mwarning(\u001b[38;5;124m\"\u001b[39m\u001b[38;5;124mInvalid Message:\u001b[39m\u001b[38;5;124m\"\u001b[39m, exc_info\u001b[38;5;241m=\u001b[39m\u001b[38;5;28;01mTrue\u001b[39;00m)\n",
      "\u001b[1;31mKeyboardInterrupt\u001b[0m: Interrupted by user"
     ]
    }
   ],
   "source": [
    "i=1\n",
    "while i<3:\n",
    "  num = int(input(\"\\nEnter number\"))\n",
    "  reversed_num = 0\n",
    "\n",
    "  while num != 0:\n",
    "     digit = num % 10\n",
    "     reversed_num = reversed_num * 10 + digit\n",
    "     num //= 10\n",
    "\n",
    "  print(\"Reversed Number: \" + str(reversed_num));\n",
    "i+=1"
   ]
  },
  {
   "cell_type": "code",
   "execution_count": 230,
   "id": "2a4d66a8",
   "metadata": {},
   "outputs": [
    {
     "name": "stdout",
     "output_type": "stream",
     "text": [
      "Enter a number: 153\n",
      "153 is an Armstrong number\n",
      "Enter a number: 687\n",
      "687 is not an Armstrong number\n"
     ]
    },
    {
     "ename": "KeyboardInterrupt",
     "evalue": "Interrupted by user",
     "output_type": "error",
     "traceback": [
      "\u001b[1;31m---------------------------------------------------------------------------\u001b[0m",
      "\u001b[1;31mKeyboardInterrupt\u001b[0m                         Traceback (most recent call last)",
      "Input \u001b[1;32mIn [230]\u001b[0m, in \u001b[0;36m<cell line: 2>\u001b[1;34m()\u001b[0m\n\u001b[0;32m      1\u001b[0m i\u001b[38;5;241m=\u001b[39m\u001b[38;5;241m1\u001b[39m\n\u001b[0;32m      2\u001b[0m \u001b[38;5;28;01mwhile\u001b[39;00m(i\u001b[38;5;241m<\u001b[39m\u001b[38;5;241m3\u001b[39m):\n\u001b[1;32m----> 3\u001b[0m   num \u001b[38;5;241m=\u001b[39m \u001b[38;5;28mint\u001b[39m(\u001b[38;5;28;43minput\u001b[39;49m\u001b[43m(\u001b[49m\u001b[38;5;124;43m\"\u001b[39;49m\u001b[38;5;124;43mEnter a number: \u001b[39;49m\u001b[38;5;124;43m\"\u001b[39;49m\u001b[43m)\u001b[49m)\n\u001b[0;32m      4\u001b[0m   \u001b[38;5;28msum\u001b[39m \u001b[38;5;241m=\u001b[39m \u001b[38;5;241m0\u001b[39m\n\u001b[0;32m      5\u001b[0m   temp \u001b[38;5;241m=\u001b[39m num\n",
      "File \u001b[1;32mC:\\ProgramData\\Anaconda3\\lib\\site-packages\\ipykernel\\kernelbase.py:1075\u001b[0m, in \u001b[0;36mKernel.raw_input\u001b[1;34m(self, prompt)\u001b[0m\n\u001b[0;32m   1071\u001b[0m \u001b[38;5;28;01mif\u001b[39;00m \u001b[38;5;129;01mnot\u001b[39;00m \u001b[38;5;28mself\u001b[39m\u001b[38;5;241m.\u001b[39m_allow_stdin:\n\u001b[0;32m   1072\u001b[0m     \u001b[38;5;28;01mraise\u001b[39;00m StdinNotImplementedError(\n\u001b[0;32m   1073\u001b[0m         \u001b[38;5;124m\"\u001b[39m\u001b[38;5;124mraw_input was called, but this frontend does not support input requests.\u001b[39m\u001b[38;5;124m\"\u001b[39m\n\u001b[0;32m   1074\u001b[0m     )\n\u001b[1;32m-> 1075\u001b[0m \u001b[38;5;28;01mreturn\u001b[39;00m \u001b[38;5;28;43mself\u001b[39;49m\u001b[38;5;241;43m.\u001b[39;49m\u001b[43m_input_request\u001b[49m\u001b[43m(\u001b[49m\n\u001b[0;32m   1076\u001b[0m \u001b[43m    \u001b[49m\u001b[38;5;28;43mstr\u001b[39;49m\u001b[43m(\u001b[49m\u001b[43mprompt\u001b[49m\u001b[43m)\u001b[49m\u001b[43m,\u001b[49m\n\u001b[0;32m   1077\u001b[0m \u001b[43m    \u001b[49m\u001b[38;5;28;43mself\u001b[39;49m\u001b[38;5;241;43m.\u001b[39;49m\u001b[43m_parent_ident\u001b[49m\u001b[43m[\u001b[49m\u001b[38;5;124;43m\"\u001b[39;49m\u001b[38;5;124;43mshell\u001b[39;49m\u001b[38;5;124;43m\"\u001b[39;49m\u001b[43m]\u001b[49m\u001b[43m,\u001b[49m\n\u001b[0;32m   1078\u001b[0m \u001b[43m    \u001b[49m\u001b[38;5;28;43mself\u001b[39;49m\u001b[38;5;241;43m.\u001b[39;49m\u001b[43mget_parent\u001b[49m\u001b[43m(\u001b[49m\u001b[38;5;124;43m\"\u001b[39;49m\u001b[38;5;124;43mshell\u001b[39;49m\u001b[38;5;124;43m\"\u001b[39;49m\u001b[43m)\u001b[49m\u001b[43m,\u001b[49m\n\u001b[0;32m   1079\u001b[0m \u001b[43m    \u001b[49m\u001b[43mpassword\u001b[49m\u001b[38;5;241;43m=\u001b[39;49m\u001b[38;5;28;43;01mFalse\u001b[39;49;00m\u001b[43m,\u001b[49m\n\u001b[0;32m   1080\u001b[0m \u001b[43m\u001b[49m\u001b[43m)\u001b[49m\n",
      "File \u001b[1;32mC:\\ProgramData\\Anaconda3\\lib\\site-packages\\ipykernel\\kernelbase.py:1120\u001b[0m, in \u001b[0;36mKernel._input_request\u001b[1;34m(self, prompt, ident, parent, password)\u001b[0m\n\u001b[0;32m   1117\u001b[0m             \u001b[38;5;28;01mbreak\u001b[39;00m\n\u001b[0;32m   1118\u001b[0m \u001b[38;5;28;01mexcept\u001b[39;00m \u001b[38;5;167;01mKeyboardInterrupt\u001b[39;00m:\n\u001b[0;32m   1119\u001b[0m     \u001b[38;5;66;03m# re-raise KeyboardInterrupt, to truncate traceback\u001b[39;00m\n\u001b[1;32m-> 1120\u001b[0m     \u001b[38;5;28;01mraise\u001b[39;00m \u001b[38;5;167;01mKeyboardInterrupt\u001b[39;00m(\u001b[38;5;124m\"\u001b[39m\u001b[38;5;124mInterrupted by user\u001b[39m\u001b[38;5;124m\"\u001b[39m) \u001b[38;5;28;01mfrom\u001b[39;00m \u001b[38;5;28mNone\u001b[39m\n\u001b[0;32m   1121\u001b[0m \u001b[38;5;28;01mexcept\u001b[39;00m \u001b[38;5;167;01mException\u001b[39;00m:\n\u001b[0;32m   1122\u001b[0m     \u001b[38;5;28mself\u001b[39m\u001b[38;5;241m.\u001b[39mlog\u001b[38;5;241m.\u001b[39mwarning(\u001b[38;5;124m\"\u001b[39m\u001b[38;5;124mInvalid Message:\u001b[39m\u001b[38;5;124m\"\u001b[39m, exc_info\u001b[38;5;241m=\u001b[39m\u001b[38;5;28;01mTrue\u001b[39;00m)\n",
      "\u001b[1;31mKeyboardInterrupt\u001b[0m: Interrupted by user"
     ]
    }
   ],
   "source": [
    "i=1\n",
    "while(i<3):\n",
    "  num = int(input(\"Enter a number: \"))\n",
    "  sum = 0\n",
    "  temp = num\n",
    "  while temp > 0:\n",
    "   digit = temp % 10\n",
    "   sum += digit ** 3\n",
    "   temp //= 10\n",
    "  if num == sum:\n",
    "   print(num,\"is an Armstrong number\")\n",
    "  else:\n",
    "    print(num,\"is not an Armstrong number\")\n",
    "i+=1\n"
   ]
  },
  {
   "cell_type": "code",
   "execution_count": 13,
   "id": "74c36a3e",
   "metadata": {},
   "outputs": [
    {
     "name": "stdout",
     "output_type": "stream",
     "text": [
      "Enter the Number 145\n",
      "Enter the Number 145\n"
     ]
    },
    {
     "ename": "KeyboardInterrupt",
     "evalue": "Interrupted by user",
     "output_type": "error",
     "traceback": [
      "\u001b[1;31m---------------------------------------------------------------------------\u001b[0m",
      "\u001b[1;31mKeyboardInterrupt\u001b[0m                         Traceback (most recent call last)",
      "Input \u001b[1;32mIn [13]\u001b[0m, in \u001b[0;36m<cell line: 3>\u001b[1;34m()\u001b[0m\n\u001b[0;32m      2\u001b[0m i\u001b[38;5;241m=\u001b[39m\u001b[38;5;241m1\u001b[39m\n\u001b[0;32m      3\u001b[0m \u001b[38;5;28;01mwhile\u001b[39;00m i\u001b[38;5;241m<\u001b[39m\u001b[38;5;241m3\u001b[39m:\n\u001b[1;32m----> 4\u001b[0m      num \u001b[38;5;241m=\u001b[39m \u001b[38;5;28mint\u001b[39m(\u001b[38;5;28;43minput\u001b[39;49m\u001b[43m(\u001b[49m\u001b[38;5;124;43m\"\u001b[39;49m\u001b[38;5;124;43mEnter the Number \u001b[39;49m\u001b[38;5;124;43m\"\u001b[39;49m\u001b[43m)\u001b[49m)\n\u001b[0;32m      5\u001b[0m      temp \u001b[38;5;241m=\u001b[39m num\n\u001b[0;32m      6\u001b[0m      add \u001b[38;5;241m=\u001b[39m \u001b[38;5;241m0\u001b[39m\n",
      "File \u001b[1;32mC:\\ProgramData\\Anaconda3\\lib\\site-packages\\ipykernel\\kernelbase.py:1075\u001b[0m, in \u001b[0;36mKernel.raw_input\u001b[1;34m(self, prompt)\u001b[0m\n\u001b[0;32m   1071\u001b[0m \u001b[38;5;28;01mif\u001b[39;00m \u001b[38;5;129;01mnot\u001b[39;00m \u001b[38;5;28mself\u001b[39m\u001b[38;5;241m.\u001b[39m_allow_stdin:\n\u001b[0;32m   1072\u001b[0m     \u001b[38;5;28;01mraise\u001b[39;00m StdinNotImplementedError(\n\u001b[0;32m   1073\u001b[0m         \u001b[38;5;124m\"\u001b[39m\u001b[38;5;124mraw_input was called, but this frontend does not support input requests.\u001b[39m\u001b[38;5;124m\"\u001b[39m\n\u001b[0;32m   1074\u001b[0m     )\n\u001b[1;32m-> 1075\u001b[0m \u001b[38;5;28;01mreturn\u001b[39;00m \u001b[38;5;28;43mself\u001b[39;49m\u001b[38;5;241;43m.\u001b[39;49m\u001b[43m_input_request\u001b[49m\u001b[43m(\u001b[49m\n\u001b[0;32m   1076\u001b[0m \u001b[43m    \u001b[49m\u001b[38;5;28;43mstr\u001b[39;49m\u001b[43m(\u001b[49m\u001b[43mprompt\u001b[49m\u001b[43m)\u001b[49m\u001b[43m,\u001b[49m\n\u001b[0;32m   1077\u001b[0m \u001b[43m    \u001b[49m\u001b[38;5;28;43mself\u001b[39;49m\u001b[38;5;241;43m.\u001b[39;49m\u001b[43m_parent_ident\u001b[49m\u001b[43m[\u001b[49m\u001b[38;5;124;43m\"\u001b[39;49m\u001b[38;5;124;43mshell\u001b[39;49m\u001b[38;5;124;43m\"\u001b[39;49m\u001b[43m]\u001b[49m\u001b[43m,\u001b[49m\n\u001b[0;32m   1078\u001b[0m \u001b[43m    \u001b[49m\u001b[38;5;28;43mself\u001b[39;49m\u001b[38;5;241;43m.\u001b[39;49m\u001b[43mget_parent\u001b[49m\u001b[43m(\u001b[49m\u001b[38;5;124;43m\"\u001b[39;49m\u001b[38;5;124;43mshell\u001b[39;49m\u001b[38;5;124;43m\"\u001b[39;49m\u001b[43m)\u001b[49m\u001b[43m,\u001b[49m\n\u001b[0;32m   1079\u001b[0m \u001b[43m    \u001b[49m\u001b[43mpassword\u001b[49m\u001b[38;5;241;43m=\u001b[39;49m\u001b[38;5;28;43;01mFalse\u001b[39;49;00m\u001b[43m,\u001b[49m\n\u001b[0;32m   1080\u001b[0m \u001b[43m\u001b[49m\u001b[43m)\u001b[49m\n",
      "File \u001b[1;32mC:\\ProgramData\\Anaconda3\\lib\\site-packages\\ipykernel\\kernelbase.py:1120\u001b[0m, in \u001b[0;36mKernel._input_request\u001b[1;34m(self, prompt, ident, parent, password)\u001b[0m\n\u001b[0;32m   1117\u001b[0m             \u001b[38;5;28;01mbreak\u001b[39;00m\n\u001b[0;32m   1118\u001b[0m \u001b[38;5;28;01mexcept\u001b[39;00m \u001b[38;5;167;01mKeyboardInterrupt\u001b[39;00m:\n\u001b[0;32m   1119\u001b[0m     \u001b[38;5;66;03m# re-raise KeyboardInterrupt, to truncate traceback\u001b[39;00m\n\u001b[1;32m-> 1120\u001b[0m     \u001b[38;5;28;01mraise\u001b[39;00m \u001b[38;5;167;01mKeyboardInterrupt\u001b[39;00m(\u001b[38;5;124m\"\u001b[39m\u001b[38;5;124mInterrupted by user\u001b[39m\u001b[38;5;124m\"\u001b[39m) \u001b[38;5;28;01mfrom\u001b[39;00m \u001b[38;5;28mNone\u001b[39m\n\u001b[0;32m   1121\u001b[0m \u001b[38;5;28;01mexcept\u001b[39;00m \u001b[38;5;167;01mException\u001b[39;00m:\n\u001b[0;32m   1122\u001b[0m     \u001b[38;5;28mself\u001b[39m\u001b[38;5;241m.\u001b[39mlog\u001b[38;5;241m.\u001b[39mwarning(\u001b[38;5;124m\"\u001b[39m\u001b[38;5;124mInvalid Message:\u001b[39m\u001b[38;5;124m\"\u001b[39m, exc_info\u001b[38;5;241m=\u001b[39m\u001b[38;5;28;01mTrue\u001b[39;00m)\n",
      "\u001b[1;31mKeyboardInterrupt\u001b[0m: Interrupted by user"
     ]
    }
   ],
   "source": [
    "import math\n",
    "i=1\n",
    "while i<3:\n",
    "     num = int(input(\"Enter the Number \"))\n",
    "     temp = num\n",
    "     add = 0\n",
    "     while temp > 0:\n",
    "        fact = 1\n",
    "        i = 1\n",
    "        rem = temp % 10\n",
    "        fact = math.factorial(rem)\n",
    "        add = add + fact\n",
    "        temp = temp // 10\n",
    "if add == num:\n",
    "    print(\"\\n%d is a Krishnamurthy Number.\" %num)\n",
    "else:\n",
    "    print(\"%d is Not a Krishnamurthy Number.\" %num)\n",
    "i+=1"
   ]
  },
  {
   "cell_type": "code",
   "execution_count": 271,
   "id": "b26a4d52",
   "metadata": {},
   "outputs": [
    {
     "name": "stdout",
     "output_type": "stream",
     "text": [
      "Enter a number87\n",
      "Number  is not a Prime Number\n"
     ]
    }
   ],
   "source": [
    "i=2\n",
    "num = int(input('Enter a number'))\n",
    "flag=True\n",
    "\n",
    "while i < num:\n",
    "    if(num % i) == 0:\n",
    "        flag = False\n",
    "    i = i+1\n",
    "    \n",
    "if flag:\n",
    "    print('Number is a Prime Number')\n",
    "else:\n",
    "    print('Number  is not a Prime Number')"
   ]
  },
  {
   "cell_type": "code",
   "execution_count": 300,
   "id": "da4773a1",
   "metadata": {},
   "outputs": [
    {
     "name": "stdout",
     "output_type": "stream",
     "text": [
      "\n",
      " 2  \n",
      " 3  \n",
      " 5  \n",
      " 7  \n",
      " 11  \n",
      " 13  \n",
      " 17  \n",
      " 19  \n",
      " 23  \n",
      " 29  \n",
      " 31  \n",
      " 37  \n",
      " 41  \n",
      " 43  \n",
      " 47  \n",
      " 53  \n",
      " 59  \n",
      " 61  \n",
      " 67  \n",
      " 71  \n",
      " 73  \n",
      " 79  \n",
      " 83  \n",
      " 89  \n",
      " 97  "
     ]
    }
   ],
   "source": [
    "Number = 1\n",
    "\n",
    "while(Number <= 100):\n",
    "    count = 0\n",
    "    i = 2\n",
    "    \n",
    "    while(i <= Number//2):\n",
    "        if(Number % i == 0):\n",
    "            count = count + 1\n",
    "            break\n",
    "        i = i + 1\n",
    "\n",
    "    if (count == 0 and Number != 1):\n",
    "        print(\"\\n %d\" %Number, end = '  ')\n",
    "    Number = Number  + 1"
   ]
  },
  {
   "cell_type": "code",
   "execution_count": null,
   "id": "cf974db0",
   "metadata": {},
   "outputs": [],
   "source": [
    "\n",
    "number=int(input(\"Enter a number: \"))\n",
    "digit=number // 10**i % 10\n",
    "a=[]\n",
    "while(n>0):\n",
    "    dig=n%2\n",
    "    a.append(dig)\n",
    "    n=n//2\n",
    "a.reverse()\n",
    "print(\"Binary Equivalent is: \")\n",
    "for i in a:\n",
    "    print(i,end=\" \")"
   ]
  },
  {
   "cell_type": "code",
   "execution_count": 339,
   "id": "daf49fb5",
   "metadata": {},
   "outputs": [
    {
     "name": "stdout",
     "output_type": "stream",
     "text": [
      "3 0b11\n",
      " \n",
      "2 0b10\n",
      " \n",
      "0 0b0\n",
      " \n",
      "5 0b101\n",
      " \n",
      "1 0b1\n",
      " \n"
     ]
    }
   ],
   "source": [
    "n=15023\n",
    "while (n != 0):\n",
    "      \n",
    "    bin_n=bin(n%10)\n",
    "    print(n%10,bin_n)\n",
    "    n = n//10\n",
    "    print(' ')\n",
    "    i=i+1    "
   ]
  },
  {
   "cell_type": "code",
   "execution_count": 342,
   "id": "4caf027b",
   "metadata": {},
   "outputs": [
    {
     "ename": "SyntaxError",
     "evalue": "EOL while scanning string literal (48972282.py, line 4)",
     "output_type": "error",
     "traceback": [
      "\u001b[1;36m  Input \u001b[1;32mIn [342]\u001b[1;36m\u001b[0m\n\u001b[1;33m    \"\"\"\"\u001b[0m\n\u001b[1;37m        \n^\u001b[0m\n\u001b[1;31mSyntaxError\u001b[0m\u001b[1;31m:\u001b[0m EOL while scanning string literal\n"
     ]
    }
   ],
   "source": [
    "\"\"\"\n",
    "This is a comment\n",
    "On multiple lines\n",
    "\"\"\"\n"
   ]
  },
  {
   "cell_type": "code",
   "execution_count": 10,
   "id": "0f1dbbb4",
   "metadata": {},
   "outputs": [
    {
     "name": "stdout",
     "output_type": "stream",
     "text": [
      "1\n",
      "2\n",
      "3\n",
      "4\n"
     ]
    }
   ],
   "source": [
    "i=1  #using else  along with while\n",
    "while i<10:\n",
    "    print(i)\n",
    "    i=i+1\n",
    "    if i==5: break\n",
    "else:\n",
    "    print(\"Loop completed\")"
   ]
  },
  {
   "cell_type": "code",
   "execution_count": 21,
   "id": "35ac777e",
   "metadata": {},
   "outputs": [
    {
     "name": "stdout",
     "output_type": "stream",
     "text": [
      "pyt\n",
      "ho\n",
      "py\n",
      "hon\n",
      "pt\n",
      "python\n",
      "nohtyp\n"
     ]
    }
   ],
   "source": [
    "s=\"python\"\n",
    "type(s)\n",
    "#dir(s)\n",
    "#print(s[0],s[-1],s[2])\n",
    "\n",
    "#slicing\n",
    "print(s[0:3])\n",
    "print(s[-3:-1])\n",
    "print(s[:2])\n",
    "print(s[3:])\n",
    "print(s[0:5:2])\n",
    "print(s[::])  #whole string\n",
    "print(s[::-1])  #reverse the string\n",
    "\n"
   ]
  },
  {
   "cell_type": "code",
   "execution_count": 37,
   "id": "1c1d1d1f",
   "metadata": {},
   "outputs": [
    {
     "name": "stdout",
     "output_type": "stream",
     "text": [
      "Enter a string  football\n",
      "Not palindrome\n"
     ]
    }
   ],
   "source": [
    "s=input(\"Enter a string  \")\n",
    "if s==s[::-1]:\n",
    "    print(\"Palindrome\")\n",
    "else:\n",
    "    print(\"Not palindrome\")   "
   ]
  },
  {
   "cell_type": "code",
   "execution_count": 45,
   "id": "2cde129a",
   "metadata": {},
   "outputs": [
    {
     "name": "stdout",
     "output_type": "stream",
     "text": [
      "4\n",
      "8\n"
     ]
    }
   ],
   "source": [
    "#Number of vowels , digits in python\n",
    "vow=\"aeiouAEIOU\"\n",
    "number=\"0123456789\"\n",
    "\n",
    "#membership operators   are in & not in\n",
    "\n",
    "s=\"malayalam\"\n",
    "digit=\"122232asasa32aasassdjsjdjsdcsc\"\n",
    "vc=0\n",
    "dg=0\n",
    "for c in s:\n",
    "        if c in vow:\n",
    "            vc=vc+1\n",
    "for c in digit:\n",
    "    if c in number:\n",
    "        dg=dg+1\n",
    "            \n",
    "            \n",
    "print(vc)\n",
    "print(dg)"
   ]
  },
  {
   "cell_type": "code",
   "execution_count": null,
   "id": "daa19341",
   "metadata": {},
   "outputs": [],
   "source": [
    "#strings are immutable , they cant be changed like\n",
    "#s[0]='X' won't work\n",
    "s.upper()\n",
    "s.find('t')\n",
    "s.replace('m','n',2)# only 2 m's converted to n"
   ]
  },
  {
   "cell_type": "code",
   "execution_count": 58,
   "id": "3fb4d978",
   "metadata": {},
   "outputs": [
    {
     "name": "stdout",
     "output_type": "stream",
     "text": [
      "Enter a binary number as a  string 1101\n",
      "13\n"
     ]
    }
   ],
   "source": [
    "b=input(\"Enter a binary number as a  string \")\n",
    "l=len(b)\n",
    "exp=l-1\n",
    "dec=0\n",
    "for n in b:\n",
    "    dec+=int(n)*(2**exp)\n",
    "    exp=exp-1\n",
    "print(dec)"
   ]
  },
  {
   "cell_type": "code",
   "execution_count": 84,
   "id": "35659f1b",
   "metadata": {},
   "outputs": [
    {
     "name": "stdout",
     "output_type": "stream",
     "text": [
      "Enter a binary number as a  string 1101\n",
      "Hexadecimal  of  1101 is D\n"
     ]
    }
   ],
   "source": [
    "b=input(\"Enter a binary number as a  string \")\n",
    "l=len(b)\n",
    "exp=l-1\n",
    "dec=0\n",
    "for n in b:\n",
    "    dec+=int(n)*(2**exp)\n",
    "    exp=exp-1\n",
    "hexa = \"\"\n",
    "while dec > 0:\n",
    "    rem = dec % 16\n",
    "    if rem < 10:\n",
    "        hexa = str(rem) + hexa\n",
    "    else:\n",
    "        hexa = chr(rem+55) + hexa\n",
    "    dec//= 16\n",
    "print(\"Hexadecimal  of \", b, \"is\", hexa)\n"
   ]
  },
  {
   "cell_type": "code",
   "execution_count": null,
   "id": "8424a92d",
   "metadata": {},
   "outputs": [],
   "source": [
    "dec=int(input(\"Enter a decimal \"))\n",
    "bin=\"\"\n",
    "while dec!=0:\n",
    "    r=dec%2\n",
    "    bin=str(r)+bin\n",
    "    dec=dec//2\n",
    "print(bin,\" Is its binary\")"
   ]
  },
  {
   "cell_type": "code",
   "execution_count": 82,
   "id": "9afdf55a",
   "metadata": {},
   "outputs": [
    {
     "name": "stdout",
     "output_type": "stream",
     "text": [
      "Enter a two-digit hexadecimal number: F0\n",
      "Decimal equivalent: 240\n",
      "Binary equivalent: 11110000\n"
     ]
    }
   ],
   "source": [
    "hex_num = input(\"Enter a two-digit hexadecimal number: \")\n",
    "dec_num = 0\n",
    "for digit in hex_num:\n",
    "    dec_num = dec_num * 16 + int(digit,16)\n",
    "print(\"Decimal equivalent:\", dec_num)\n",
    "bin_num = ''\n",
    "while dec_num > 0:\n",
    "    bin_num = str(dec_num % 2) + bin_num\n",
    "    dec_num //= 2\n",
    "\n",
    "print(\"Binary equivalent:\", bin_num)"
   ]
  },
  {
   "cell_type": "code",
   "execution_count": 90,
   "id": "22ae03d4",
   "metadata": {},
   "outputs": [
    {
     "name": "stdout",
     "output_type": "stream",
     "text": [
      "Enter a key 3\n",
      "Enter a string xiyv\n",
      "alby\n"
     ]
    }
   ],
   "source": [
    "# ******** Case study\n",
    "import string\n",
    "alph=string.ascii_lowercase\n",
    "k=int(input(\"Enter a key \"))\n",
    "ciphertext=\"\"\n",
    "plaintext=input('Enter a string ')\n",
    "for c in plaintext:\n",
    "    if c in alph:\n",
    "        i=alph.find(c)\n",
    "        i=(i+k)%26\n",
    "        ciphertext=ciphertext+alph[i]\n",
    "print(ciphertext)\n",
    "\n",
    "# alby is to cnda a , b, c c is the 2nd element from a   if the key is 2\n",
    "      #            l, m,n  n is 2nd element from l"
   ]
  },
  {
   "cell_type": "code",
   "execution_count": null,
   "id": "f307ac27",
   "metadata": {},
   "outputs": [],
   "source": [
    "#Lists\n",
    "#did=fferent syntax\n",
    "l=[]\n",
    "print(l)\n",
    "L=list()\n",
    "print(L)\n",
    "l=[10,20.5,3+2j,\"hi\"]\n",
    "print(l)\n",
    "\n",
    "l=[10,20,22,25,26,28,29]\n",
    "print(l[2:6:2])\n",
    "l[-4:-2]\n",
    "print(l)\n",
    "\n",
    "l=[100]+l\n",
    "print(l)\n",
    "l=l+[200]\n",
    "print(l)\n",
    "l.append(1000)\n",
    "print(l)\n",
    "l.extend([50,55])\n",
    "print(l)\n",
    "l.insert(1,2000)\n",
    "print(l.index(1000))\n",
    "l.sort(reverse=True)\n",
    "print(l)\n",
    "l.reverse()\n",
    "print(l)"
   ]
  },
  {
   "cell_type": "code",
   "execution_count": 25,
   "id": "88c75ec0",
   "metadata": {},
   "outputs": [
    {
     "name": "stdout",
     "output_type": "stream",
     "text": [
      "Enter n4\n",
      "w\n",
      "a\n",
      "1\n",
      "A\n",
      "['1', 'A', 'a', 'w']\n",
      "1 A a w\n"
     ]
    }
   ],
   "source": [
    "# Read n names and sort\n",
    "\n",
    "n=int(input('Enter n'))\n",
    "names=[]\n",
    "for i in range(n):\n",
    "    nam=input()\n",
    "    names.append(nam)\n",
    "names.sort()\n",
    "print(names)\n",
    "print(*names)"
   ]
  },
  {
   "cell_type": "code",
   "execution_count": 27,
   "id": "1aa272ad",
   "metadata": {},
   "outputs": [
    {
     "name": "stdout",
     "output_type": "stream",
     "text": [
      "Enter n3\n",
      "4\n",
      "6\n",
      "7\n",
      "Min=  4\n",
      "Max=  7\n",
      "Sum =  4\n",
      "Average=  5.666666666666667\n"
     ]
    }
   ],
   "source": [
    "n=int(input('Enter n'))\n",
    "L=[]\n",
    "for i in range(n):\n",
    "    x=int(input())\n",
    "    L.append(x)\n",
    "print(\"Min= \",min(L))\n",
    "print(\"Max= \",max(L))\n",
    "print(\"Sum = \",min(L))\n",
    "print(\"Average= \",sum(L)/len(L))\n"
   ]
  },
  {
   "cell_type": "code",
   "execution_count": 102,
   "id": "db66adbf",
   "metadata": {},
   "outputs": [
    {
     "name": "stdout",
     "output_type": "stream",
     "text": [
      "Enter a range 5\n",
      "(x^ 1 )/( 1 !) + (x^ -3 )/( 3 !) + (x^ 5 )/( 5 !) + (x^ -7 )/( 7 !) + (x^ 9 )/( 9 !) + \n",
      "or\n",
      "(x^ 1 )/( 1 ) + (x^ -3 )/( 6 ) + (x^ 5 )/( 120 ) + (x^ -7 )/( 5040 ) + (x^ 9 )/( 362880 ) + "
     ]
    }
   ],
   "source": [
    "import math\n",
    "\n",
    "n=int(input(\"Enter a range \"))\n",
    "for i in range(0,n):\n",
    "    print('(x^',(2*i+1)*pow(-1,i),')/(',(2*i+1),'!)','+',end=\" \")\n",
    "print(\"\\nor\")\n",
    "for i in range(0,n):\n",
    "    print('(x^',(2*i+1)*pow(-1,i),')/(',math.factorial(2*i+1),')','+',end=\" \")"
   ]
  },
  {
   "cell_type": "code",
   "execution_count": 106,
   "id": "14fc07c0",
   "metadata": {},
   "outputs": [
    {
     "name": "stdout",
     "output_type": "stream",
     "text": [
      "Enter the investment amount: 100\n",
      "Enter the number of years: 50\n",
      "Enter the rate in percentage %: 5\n",
      "Year  Starting balance  Interest  Ending balance\n",
      "   1            100.00      5.00          105.00\n",
      "   2            100.00      5.00          105.00\n",
      "   3            100.00      5.00          105.00\n",
      "   4            100.00      5.00          105.00\n",
      "   5            100.00      5.00          105.00\n",
      "   6            100.00      5.00          105.00\n",
      "   7            100.00      5.00          105.00\n",
      "   8            100.00      5.00          105.00\n",
      "   9            100.00      5.00          105.00\n",
      "  10            100.00      5.00          105.00\n",
      "  11            100.00      5.00          105.00\n",
      "  12            100.00      5.00          105.00\n",
      "  13            100.00      5.00          105.00\n",
      "  14            100.00      5.00          105.00\n",
      "  15            100.00      5.00          105.00\n",
      "  16            100.00      5.00          105.00\n",
      "  17            100.00      5.00          105.00\n",
      "  18            100.00      5.00          105.00\n",
      "  19            100.00      5.00          105.00\n",
      "  20            100.00      5.00          105.00\n",
      "  21            100.00      5.00          105.00\n",
      "  22            100.00      5.00          105.00\n",
      "  23            100.00      5.00          105.00\n",
      "  24            100.00      5.00          105.00\n",
      "  25            100.00      5.00          105.00\n",
      "  26            100.00      5.00          105.00\n",
      "  27            100.00      5.00          105.00\n",
      "  28            100.00      5.00          105.00\n",
      "  29            100.00      5.00          105.00\n",
      "  30            100.00      5.00          105.00\n",
      "  31            100.00      5.00          105.00\n",
      "  32            100.00      5.00          105.00\n",
      "  33            100.00      5.00          105.00\n",
      "  34            100.00      5.00          105.00\n",
      "  35            100.00      5.00          105.00\n",
      "  36            100.00      5.00          105.00\n",
      "  37            100.00      5.00          105.00\n",
      "  38            100.00      5.00          105.00\n",
      "  39            100.00      5.00          105.00\n",
      "  40            100.00      5.00          105.00\n",
      "  41            100.00      5.00          105.00\n",
      "  42            100.00      5.00          105.00\n",
      "  43            100.00      5.00          105.00\n",
      "  44            100.00      5.00          105.00\n",
      "  45            100.00      5.00          105.00\n",
      "  46            100.00      5.00          105.00\n",
      "  47            100.00      5.00          105.00\n",
      "  48            100.00      5.00          105.00\n",
      "  49            100.00      5.00          105.00\n",
      "  50            100.00      5.00          105.00\n",
      "Ending balance: $105.00\n",
      "Total interest earned: $250.00\n"
     ]
    }
   ],
   "source": [
    "#interest rate\n",
    "\n",
    "first_Balance = float(input(\"Enter the investment amount: \"))\n",
    "years = int(input(\"Enter the number of years: \"))\n",
    "rate = int(input(\"Enter the rate in percentage %: \"))\n",
    "rate = rate / 100\n",
    "\n",
    "tot_Interest = 0.0\n",
    "print(\"%4s%18s%10s%16s\" % (\"Year\", \"Starting balance\",\"Interest\", \"Ending balance\"))\n",
    "\n",
    "for year in range(1, years + 1):\n",
    "    interest = first_Balance * rate\n",
    "    endBalance = first_Balance + interest\n",
    "    print(\"%4d%18.2f%10.2f%16.2f\" % (year, first_Balance, interest, endBalance))\n",
    "    startBalance = endBalance\n",
    "    tot_Interest += interest\n",
    "\n",
    "print(\"Ending balance: $%0.2f\" % endBalance)\n",
    "print(\"Total interest earned: $%0.2f\" % tot_Interest)"
   ]
  },
  {
   "cell_type": "code",
   "execution_count": 20,
   "id": "74e44932",
   "metadata": {},
   "outputs": [
    {
     "name": "stdout",
     "output_type": "stream",
     "text": [
      "Enter  n: 9\n",
      "Enter the value of x .5236\n",
      "sin(x) =  0.500001060362603\n"
     ]
    }
   ],
   "source": [
    "import math\n",
    "\n",
    "n = int(input(\"Enter  n: \"))\n",
    "x = float(input(\"Enter the value of x \"))  #30 degree =0.5236 radian\n",
    "sinx = x                                   \n",
    "sign = -1  \n",
    "for i in range(1, n):\n",
    "    term = (x**(2*i+1)) / math.factorial(2*i+1)\n",
    "    sinx =sinx+(sign * term)\n",
    "    sign =sign*(-1)\n",
    "\n",
    "print(\"sin(x) = \", sinx)"
   ]
  },
  {
   "cell_type": "code",
   "execution_count": 108,
   "id": "2dec33f0",
   "metadata": {},
   "outputs": [
    {
     "name": "stdout",
     "output_type": "stream",
     "text": [
      "Enter the investment amount: 100000\n",
      "Enter the number of years: 3\n",
      "Enter the rate in percentage : 2\n",
      "Year  Starting balance  Interest  Ending balance\n",
      "   1         100000.00   2000.00       102000.00\n",
      "   2         102000.00   2040.00       104040.00\n",
      "   3         104040.00   2080.80       106120.80\n",
      "Ending balance: $106120.80\n",
      "Total interest earned: $6120.80\n"
     ]
    }
   ],
   "source": [
    "first_Balance = float(input(\"Enter the investment amount: \"))\n",
    "years = int(input(\"Enter the number of years: \"))\n",
    "rate = int(input(\"Enter the rate in percentage : \"))\n",
    "rate = rate / 100\n",
    "totalInterest = 0.0\n",
    "print(\"%4s%18s%10s%16s\" % (\"Year\", \"Starting balance\",\"Interest\", \"Ending balance\"))\n",
    "\n",
    "for year in range(1, years + 1):\n",
    "    interest = first_Balance * rate\n",
    "    endBalance = first_Balance + interest\n",
    "    print(\"%4d%18.2f%10.2f%16.2f\" % (year, first_Balance, interest, endBalance))\n",
    "    first_Balance = endBalance\n",
    "    totalInterest += interest\n",
    "\n",
    "print(\"Ending balance: $%0.2f\" % endBalance)\n",
    "print(\"Total interest earned: $%0.2f\" % totalInterest)"
   ]
  },
  {
   "cell_type": "code",
   "execution_count": 28,
   "id": "28383e39",
   "metadata": {},
   "outputs": [
    {
     "name": "stdout",
     "output_type": "stream",
     "text": [
      "Enter the number 4\n",
      "1 \n",
      "\n",
      "1 2 \n",
      "\n",
      "1 2 3 \n",
      "\n",
      "1 2 3 4 \n",
      "\n"
     ]
    }
   ],
   "source": [
    "\n",
    "   n=int(input(\"Enter the number \"))\n",
    "  \n",
    "   for i in range(n):\n",
    "    for j in range(i+1):\n",
    "        print(j+1,end=\" \")\n",
    "    print(\"\\n\")"
   ]
  },
  {
   "cell_type": "code",
   "execution_count": 33,
   "id": "9ce2d867",
   "metadata": {},
   "outputs": [
    {
     "name": "stdout",
     "output_type": "stream",
     "text": [
      "Enter a number: 645546\n",
      "The reverse  is:  645546\n",
      "The sum is: 30\n"
     ]
    }
   ],
   "source": [
    "num = int(input(\"Enter a number: \"))\n",
    "rev = 0\n",
    "while num > 0:\n",
    "    digit = num % 10\n",
    "    rev = rev * 10 + digit\n",
    "    num = num // 10\n",
    "print(\"The reverse  is: \",rev)\n",
    "sum1= 0\n",
    "while rev > 0:\n",
    "    digit = rev % 10\n",
    "    sum1 += digit\n",
    "    rev = rev // 10\n",
    "print(\"The sum is:\", sum1)\n"
   ]
  },
  {
   "cell_type": "code",
   "execution_count": 36,
   "id": "16418e58",
   "metadata": {
    "scrolled": true
   },
   "outputs": [
    {
     "name": "stdout",
     "output_type": "stream",
     "text": [
      "Enter a number: 1634\n",
      "1634 is an Armstrong number\n"
     ]
    }
   ],
   "source": [
    "num = int(input(\"Enter a number: \"))\n",
    "n = len(str(num))\n",
    "sum1 = 0\n",
    "temp = num\n",
    "while temp > 0:\n",
    "    digit = temp % 10\n",
    "    sum1 += digit ** n\n",
    "    temp //= 10\n",
    "if num == sum1:\n",
    "    print(num, \"is an Armstrong number\")\n",
    "else:\n",
    "    print(num, \"is not an Armstrong number\")"
   ]
  },
  {
   "cell_type": "code",
   "execution_count": 39,
   "id": "511d543f",
   "metadata": {},
   "outputs": [
    {
     "name": "stdout",
     "output_type": "stream",
     "text": [
      "Enter a number: 81\n",
      "The square root of 81.0 is 9.0\n"
     ]
    }
   ],
   "source": [
    "num = float(input(\"Enter a number: \"))\n",
    "guess = num / 2  # Initial guess is half of the number\n",
    "\n",
    "while True:\n",
    "    new_guess = (guess + num / guess) / 2  # Compute the new guess\n",
    "    if abs(new_guess - guess) < 1e-6:  # Check for convergence\n",
    "        break\n",
    "    guess = new_guess  # Update the guess\n",
    "\n",
    "print(\"The square root of\", num, \"is\", new_guess)"
   ]
  },
  {
   "cell_type": "code",
   "execution_count": 2,
   "id": "ff0d8fb6",
   "metadata": {},
   "outputs": [
    {
     "name": "stdout",
     "output_type": "stream",
     "text": [
      "Enter a number: 7854\n",
      "The sum of the first and last digits of 7854 is 11\n"
     ]
    }
   ],
   "source": [
    "num = int(input(\"Enter a number: \"))\n",
    "first_digit = num\n",
    "while first_digit >= 10:\n",
    "    first_digit //= 10\n",
    "\n",
    "last_digit = num % 10\n",
    "sum_digits = first_digit + last_digit\n",
    "\n",
    "print(\"The sum of the first and last digits of\", num, \"is\", sum_digits)\n"
   ]
  },
  {
   "cell_type": "code",
   "execution_count": 5,
   "id": "6fbf4f39",
   "metadata": {
    "scrolled": true
   },
   "outputs": [
    {
     "name": "stdout",
     "output_type": "stream",
     "text": [
      "Enter a number: 9845\n",
      "nine eight four five "
     ]
    }
   ],
   "source": [
    "num = int(input(\"Enter a number: \"))\n",
    "digits = [\"zero\", \"one\", \"two\", \"three\", \"four\", \n",
    "          \"five\", \"six\", \"seven\", \"eight\", \"nine\"]\n",
    "\n",
    "for d_char in str(num):\n",
    "    d_int = int(d_char)  \n",
    "    dw = digits[d_int]  \n",
    "    print(dw,end=\" \") "
   ]
  },
  {
   "cell_type": "code",
   "execution_count": 36,
   "id": "b0366da1",
   "metadata": {
    "scrolled": true
   },
   "outputs": [
    {
     "name": "stdout",
     "output_type": "stream",
     "text": [
      "Last 4 letters of of string > Python Programming by Alby < are  Alby\n",
      "index from 4 to index 8 is >  on P  <\n",
      "Length of string is  26\n",
      "Length of the shortest word: 2\n",
      "Length of the longest word: 11\n",
      "Trimmed the last four characters > Python Programming by   <\n",
      "Trimmed the first four characters > on Programming by Alby  <\n",
      "Index of > gr < is at  10\n",
      "Changes case   pYTHON pROGRAMMING BY aLBY\n",
      "Python Programming by Alby is not in title case.\n",
      "Changes case   Python Progra**ing by Alby\n",
      "Reverse is  yblA yb gnimmargorP nohtyP\n",
      "m is found  2  times\n",
      "characters in even positions are  Pto rgamn yAb\n",
      "characters in even positions in reverse are  yl bgimroPnhy\n",
      "'on' is present in Python Programming by Alby\n",
      "1st occurance of > t  < is at  2\n",
      "String in Upper case is  PYTHON PROGRAMMING BY ALBY\n"
     ]
    }
   ],
   "source": [
    "string=\"Python Programming by Alby\" \n",
    "\n",
    "# a) To display the last four characters. \n",
    "print(\"Last 4 letters of of string >\", string, \"< are \", string[-4:])\n",
    "\n",
    "# b) To display the substring starting from index 4 and ending at index 8.\n",
    "print(\"index from 4 to index 8 is > \",string[4:8],\" <\")\n",
    "\n",
    "#c) Find the length of the string,min and max(characters)\n",
    "print(\"Length of string is \",len(string))\n",
    "\n",
    "words = string.split()  # Split the string into a list of words\n",
    "min_length = len(min(words, key=len))\n",
    "max_length = len(max(words, key=len))\n",
    "print(\"Length of the shortest word:\", min_length)\n",
    "print(\"Length of the longest word:\", max_length)\n",
    "\n",
    "#d) \tTo trim the last four characters from the string.\n",
    "print(\"Trimmed the last four characters >\",string[:-4],\" <\")\n",
    "\n",
    "#e) To trim the first four characters from the string ***************\n",
    "print(\"Trimmed the first four characters >\",string[4:],\" <\")\n",
    "\n",
    "#f)\tTo display the starting index of the substring 'gr'.\n",
    "print(\"Index of > gr < is at \",string.find(\"gr\"))\n",
    "\n",
    "#g)\tTo change the case of the given string small letter to capital & vice versa\n",
    "print(\"Changes case  \",string.swapcase())\n",
    "\n",
    "#h)\tTo check if the string is in title case\n",
    "if string.istitle(): print(string, \"is in title case.\")\n",
    "else: print(string, \"is not in title case.\")\n",
    "\n",
    "#i) To replace all the occurrences of letter 'm' in the string with '*'\n",
    "print(\"Changes case  \",string.replace('m', '*'))\n",
    "\n",
    "#j) Reverse of a string\n",
    "print(\"Reverse is \",string[::-1])\n",
    "\n",
    "#k) count all occurances of m\n",
    "print(\"m is found \",string.count('m'),\" times\")\n",
    "\n",
    "#l)\tcharacters in even positions 0,2,4,…..\n",
    "print(\"characters in even positions are \",string[::2])\n",
    "\n",
    "#m)\tcharacters in even positions 0,2,4,….. in the reverse of string\n",
    "print(\"characters in even positions in reverse are \",string[::-2])\n",
    "\n",
    "#n) Check if the substring 'on' is in the string\n",
    "if 'on' in string:  print(\"'on' is present in\", string)\n",
    "else: print(\"'on' is not present in\", string)\n",
    "\n",
    "#o) First occurance of t \n",
    "print(\"1st occurance of > t  < is at \",string.find('t'))\n",
    "\n",
    "#p) Convert string to upper\n",
    "print(\"String in Upper case is \",string.upper())"
   ]
  },
  {
   "cell_type": "code",
   "execution_count": 57,
   "id": "5d0c9ed1",
   "metadata": {},
   "outputs": [
    {
     "name": "stdout",
     "output_type": "stream",
     "text": [
      "Enter a String CSBmec2024\n",
      "Vowel count  1\n",
      "Consonent count  5\n",
      "Digit count  4\n"
     ]
    }
   ],
   "source": [
    "vow=\"aeiouAEIOU\"\n",
    "number=\"0123456789\"\n",
    "s=input(\"Enter a String \")\n",
    "vc=0;dg=0;cc=0\n",
    "for c in s:\n",
    " if c in vow:\n",
    "  vc=vc+1\n",
    " if c not in vow:\n",
    "  if c not in number:\n",
    "   cc=cc+1\n",
    " if c in number:\n",
    "  dg=dg+1\n",
    "            \n",
    "print(\"Vowel count \",vc)\n",
    "print(\"Consonent count \",cc)\n",
    "print(\"Digit count \",dg)"
   ]
  },
  {
   "cell_type": "code",
   "execution_count": 158,
   "id": "d683e0cc",
   "metadata": {},
   "outputs": [
    {
     "name": "stdout",
     "output_type": "stream",
     "text": [
      "Enter a password albythekkedan\n",
      "Valid Pasword \n",
      "😀\n"
     ]
    }
   ],
   "source": [
    "import re\n",
    "import string\n",
    "alph=string.ascii_lowercase\n",
    "ALPHA=string.ascii_uppercase\n",
    "numbers=\"0123456789\"\n",
    "specil_char=\"$@#\"\n",
    "ch=True\n",
    "password=input(\"Enter a password \")\n",
    "for c in password:\n",
    "    if c not in alph:\n",
    "        ch= False\n",
    "        if c not in ALPHA or c not in numbers:\n",
    "            ch=False\n",
    "            #if c not in numbers:\n",
    "                #ch=False\n",
    "            if c not in specil_char:\n",
    "                ch=False\n",
    "if ch==False:                   \n",
    "    print(\"Invalid Password \\n\\nThe Password should satisfy the following criteria:\\n 1. Contains at least one letter between a and z \\n 2. Contains at least one number between 0 and 9\\n 3. Contains at least one letter between A and Z\\n 4. Contains at least one special character from $, #, @\\n 5.Minimum length of password: 8 \")    \n",
    "else: \n",
    "    if len(password)>8:\n",
    "        print(\"Valid Pasword \\n\\U0001f600\")"
   ]
  },
  {
   "cell_type": "code",
   "execution_count": 171,
   "id": "07f746e7",
   "metadata": {},
   "outputs": [
    {
     "name": "stdout",
     "output_type": "stream",
     "text": [
      "Enter a password: @mecEXCEL2024\n",
      "Password is valid \n",
      "😀\n"
     ]
    }
   ],
   "source": [
    "alph=string.ascii_lowercase\n",
    "ALPHA=string.ascii_uppercase\n",
    "numbers=\"0123456789\"\n",
    "spec_char=\"$@#\"\n",
    "\n",
    "def is_valid_password(password):\n",
    "    if len(password) < 8:\n",
    "        return False\n",
    "    \n",
    "    has_lowercase = False\n",
    "    for char in password:\n",
    "        if char in alph:\n",
    "            has_lowercase = True\n",
    "            break\n",
    "    if not has_lowercase:\n",
    "        return False\n",
    "\n",
    "    has_uppercase = False\n",
    "    for char in password:\n",
    "        if char in ALPHA:\n",
    "            has_uppercase = True\n",
    "            break\n",
    "    if not has_uppercase:\n",
    "        return False\n",
    "\n",
    "    has_digit = False\n",
    "    for char in password:\n",
    "        if char in numbers:\n",
    "            has_digit = True\n",
    "            break\n",
    "    if not has_digit:\n",
    "        return False\n",
    "\n",
    "    has_special_char = False\n",
    "    for char in password:\n",
    "        if char in spec_char:\n",
    "            has_special_char = True\n",
    "            break\n",
    "    if not has_special_char:\n",
    "        return False\n",
    "\n",
    "    return True\n",
    "\n",
    "password = input(\"Enter a password: \")\n",
    "if is_valid_password(password):\n",
    "    print(\"Password is valid \\n\\U0001f600\")\n",
    "else:\n",
    "    print(\"Invalid Password \\n\\nThe Password should satisfy the following criteria:\\n 1. Contains at least one letter between a and z \\n 2. Contains at least one number between 0 and 9\\n 3. Contains at least one letter between A and Z\\n 4. Contains at least one special character from $, #, @\\n 5.Minimum length of password: 8 \")\n"
   ]
  },
  {
   "cell_type": "code",
   "execution_count": null,
   "id": "d6365dfa",
   "metadata": {},
   "outputs": [],
   "source": [
    "() Tuple\n",
    "{} Set\n",
    "[] List"
   ]
  },
  {
   "cell_type": "code",
   "execution_count": 7,
   "id": "47f545cf",
   "metadata": {},
   "outputs": [
    {
     "name": "stdout",
     "output_type": "stream",
     "text": [
      "<class 'int'>\n",
      "<class 'tuple'>\n",
      "101\n",
      "101 35 athira\n",
      "1\n",
      "0\n",
      "10\n",
      "20\n",
      "30\n",
      "2\n",
      "(10, 20) (30, 40)\n",
      "(30, 40) (10, 20)\n"
     ]
    }
   ],
   "source": [
    "#Tuple\n",
    "\n",
    "x=(30)\n",
    "print(type(x))\n",
    "x=(30, )\n",
    "print(type(x)) # Comma shows it's a tuple\n",
    "\n",
    "#Tuple Packing\n",
    "stud=(101,'athira',35)\n",
    "print(stud[0])\n",
    "# Tuples are Unmutable\n",
    "\n",
    "#Unpacking a Tuple\n",
    "\n",
    "rno,name,mark=stud\n",
    "print(rno,mark,name)\n",
    "\n",
    "# Tuple functions are just 2 , Either to count a value , Or search for a Value\n",
    "\n",
    "t=(10,20)\n",
    "print(t.count(10))\n",
    "print(t.index(10))\n",
    "print(min(t))\n",
    "print(max(t))\n",
    "print(sum(t))\n",
    "print(len(t))\n",
    "\n",
    "#Tuple exchange\n",
    "t2=(30,40)\n",
    "print(t,t2)\n",
    "t2,t=t,t2\n",
    "print(t,t2)"
   ]
  },
  {
   "cell_type": "code",
   "execution_count": null,
   "id": "f7d623b4",
   "metadata": {},
   "outputs": [],
   "source": [
    "# Memory Refence in Python for List duplication\n",
    "\n",
    "l1=[10,20]\n",
    "l2=l1\n",
    "print(id(l1))\n",
    "print(id(l2))\n",
    "print(l1)\n",
    "print(l2)\n",
    "\n",
    "l2[1]=100\n",
    "print(id(l1))\n",
    "print(id(l2))\n",
    "print(l1)   # Changes made to l2 affected l1 , which means both are refrecing same array\n",
    "print(l2)\n",
    "\n",
    "#Create a new array with the same value of l2\n",
    "l3=l2.copy()\n",
    "print(id(l2))\n",
    "print(id(l3))  # Here editing l3 wont affect l2\n"
   ]
  },
  {
   "cell_type": "code",
   "execution_count": 9,
   "id": "288993d3",
   "metadata": {},
   "outputs": [
    {
     "name": "stdout",
     "output_type": "stream",
     "text": [
      "{1, 2, 3, 5}\n"
     ]
    }
   ],
   "source": [
    "#SETS {}\n",
    "\n",
    "s1={10,202,30,30,40,40}\n",
    "\n",
    "# Wont contain duplicates , So used to remove duplicate eassly\n",
    "\n",
    "# No Indexing of elements possible\n",
    "#s[0] is error\n",
    "\n",
    "# Convert LIst to Set \n",
    "L=[1,2,5,3,3,3,81,43,12,90]\n",
    "s2=set(L)\n",
    "print(s2)\n",
    "\n",
    "# No sort function , but we can use sorted()\n",
    "s3=sorted(s2)\n",
    "print(s3)\n",
    "\n"
   ]
  },
  {
   "cell_type": "markdown",
   "id": "fa25ccce",
   "metadata": {},
   "source": [
    "\n",
    "s=set()\n",
    "n=int(input(\"Enter n\"))\n",
    "\n",
    "for i in range(n):\n",
    "    x=int(input())\n",
    "    s.add(x)\n",
    "print(s)"
   ]
  },
  {
   "cell_type": "code",
   "execution_count": 11,
   "id": "32a76c0f",
   "metadata": {},
   "outputs": [
    {
     "name": "stdout",
     "output_type": "stream",
     "text": [
      "Enter n3\n",
      "1\n",
      "2\n",
      "4\n",
      "{1, 2, 4}\n"
     ]
    }
   ],
   "source": [
    "#insert elements to a set \n",
    "s=set() \n",
    "n=int(input(\"Enter n\"))\n",
    "\n",
    "for i in range(n): \n",
    "    x=int(input()) \n",
    "    s.add(x) \n",
    "print(s)\n",
    "\n",
    "# Set Operations \n",
    "\n",
    "s1={10,20,30,40}\n",
    "s2={5,10,15}\n",
    "print(s1|s2) # Union\n",
    "print(s1&s2) # Intersection\n",
    "print(s1-s2) #Differnce\n",
    "print(s1^s2) # Symmentric Difference\n",
    "\n",
    "print(s1.issubset(s2))"
   ]
  },
  {
   "cell_type": "code",
   "execution_count": null,
   "id": "aa7077f8",
   "metadata": {},
   "outputs": [],
   "source": [
    "# Split Strings with Unique words\n",
    "S=\"I like to drink water but I don't like to drink hot water\"\n",
    "T=S.split(\" \")\n",
    "R=set(T)\n",
    "print(T)\n",
    "print(sorted.(T))\n",
    "print(T.count(\"water\"))\n"
   ]
  },
  {
   "cell_type": "markdown",
   "id": "33b76be4",
   "metadata": {},
   "source": [
    "Assignment 3 "
   ]
  },
  {
   "cell_type": "code",
   "execution_count": 31,
   "id": "0827f0fb",
   "metadata": {},
   "outputs": [
    {
     "name": "stdout",
     "output_type": "stream",
     "text": [
      "8\n",
      "8 Alby\n",
      "8 Alby Vadavucode 682310 9747554404\n",
      "MDL20CS129 8 Alby Vadavucode 682310 9747554404\n",
      "MDL20CS129 Alby\n",
      "4\n",
      "54404\n",
      "9747554404 682310 Vadavucode Alby 8 MDL20CS129\n",
      "9747554404 682310 Vadavucode Alby 8 MDL20CS129\n",
      "3\n"
     ]
    }
   ],
   "source": [
    "stud=[]\n",
    "\n",
    "stud+=[8]\n",
    "print(*stud)\n",
    "\n",
    "stud.append('Alby')\n",
    "print(*stud)\n",
    "\n",
    "stud.extend(['Vadavucode',682310,9747554404])\n",
    "print(*stud)\n",
    "\n",
    "#stud[0]='MDL20CS129'\n",
    "#print(stud)\n",
    "\n",
    "stud=['MDL20CS129']+stud\n",
    "print(*stud)\n",
    "\n",
    "print(stud[0], stud[2])\n",
    "\n",
    "print(len(stud[2]))\n",
    "\n",
    "phno=str(stud[5])\n",
    "last4dig=phno[-5:]\n",
    "print(last4dig)\n",
    "\n",
    "print(*stud[::-1]) # Just prints reverse\n",
    "stud.reverse()\n",
    "print(*stud)\n",
    "\n",
    "name='Alby'\n",
    "IndexOfName= stud.index(name)\n",
    "print(IndexOfName)"
   ]
  },
  {
   "cell_type": "code",
   "execution_count": 39,
   "id": "3019ba4c",
   "metadata": {},
   "outputs": [
    {
     "name": "stdout",
     "output_type": "stream",
     "text": [
      "Enter the number of numbers5\n",
      "Enter  number 11\n",
      "Enter  number 1\n",
      "Enter  number 2\n",
      "Enter  number 9\n",
      "Enter  number 7\n",
      "Original List:   11 1 2 9 7\n",
      "Prime numbers:   11 2 7\n",
      "Composite numbers:  1 9\n"
     ]
    }
   ],
   "source": [
    "def is_prime(num):\n",
    "    if num <= 1:\n",
    "        return False\n",
    "    for i in range(2, int(num ** 0.5) + 1):\n",
    "        if num % i == 0:\n",
    "            return False\n",
    "    return True\n",
    "num_list = []\n",
    "count=int(input(\"Enter the number of numbers\"))\n",
    "cnt=0\n",
    "while (cnt!=count):\n",
    "        num = int(input(\"Enter  number \"))\n",
    "        num_list.append(num)\n",
    "        cnt+=1\n",
    "\n",
    "prime_list = []\n",
    "composite_list = []\n",
    "for num in num_list:\n",
    "    if is_prime(num):\n",
    "        prime_list.append(num)\n",
    "    else:\n",
    "        composite_list.append(num)\n",
    "print(\"Original List:  \", *num_list)\n",
    "print(\"Prime numbers:  \", *prime_list)\n",
    "print(\"Composite numbers: \", *composite_list)\n"
   ]
  },
  {
   "cell_type": "markdown",
   "id": "bcbd23f0",
   "metadata": {},
   "source": []
  },
  {
   "cell_type": "code",
   "execution_count": 46,
   "id": "2a41ccaa",
   "metadata": {},
   "outputs": [
    {
     "name": "stdout",
     "output_type": "stream",
     "text": [
      "Sorted names: Alby Amal Sumegh abhijith akash\n",
      "Longest name: a b h i j i t h\n",
      "Names starting with 'A': Alby Amal\n",
      "Names in reverse alphabetical order: AKASH ABHIJITH SUMEGH AMAL ALBY\n",
      "Names sorted by length: Alby Amal akash Sumegh abhijith\n"
     ]
    }
   ],
   "source": [
    "names=['Sumegh','Alby','abhijith','akash','Amal']\n",
    "\n",
    "# Sort the names in alphabetical order\n",
    "sorted_names = sorted(names)\n",
    "\n",
    "# Find the name with largest length\n",
    "longest_name = max(names, key=len)\n",
    "\n",
    "# Print the names starting with letter 'A'\n",
    "A_names = [name for name in names if name.startswith('A')]\n",
    "\n",
    "# Print the names in reverse alphabetical order with all names converted to capital letters\n",
    "reversed_names = sorted(names, reverse=True)\n",
    "capitalized_names = [name.upper() for name in reversed_names]\n",
    "\n",
    "# Print the names in the order of length\n",
    "length_sorted_names = sorted(names, key=len)\n",
    "\n",
    "print(\"Sorted names:\", *sorted_names)\n",
    "print(\"Longest name:\", *longest_name)\n",
    "print(\"Names starting with 'A':\", *A_names)\n",
    "print(\"Names in reverse alphabetical order:\", *capitalized_names)\n",
    "print(\"Names sorted by length:\", *length_sorted_names)\n"
   ]
  },
  {
   "cell_type": "code",
   "execution_count": 2,
   "id": "e423599b",
   "metadata": {},
   "outputs": [
    {
     "name": "stdout",
     "output_type": "stream",
     "text": [
      "[1, 3, 9, 27, 81, 243, 729, 2187, 6561, 19683, 59049, 177147, 531441, 1594323, 4782969, 14348907, 43046721, 129140163, 387420489, 1162261467, 3486784401]\n",
      "\n",
      "\n",
      "[3, 6, 9, 12, 15, 18, 21, 24, 27, 30, 33, 36, 39, 42, 45, 48, 51, 54, 57, 60, 63, 66, 69, 72, 75, 78, 81, 84, 87, 90, 93, 96, 99]\n"
     ]
    }
   ],
   "source": [
    "print([3**i for i in range(21)])\n",
    "print(\"\\n\")\n",
    "print([i for i in range(1, 100) if i % 3 == 0])"
   ]
  },
  {
   "cell_type": "code",
   "execution_count": 4,
   "id": "e049df2d",
   "metadata": {},
   "outputs": [
    {
     "name": "stdout",
     "output_type": "stream",
     "text": [
      "Tuple:  (2, 4, 6, 8, 10, 12, 14, 16, 18, 20)\n",
      "Sum:  110\n",
      "Average:  11.0\n",
      "Largest element:  20\n",
      "Smallest element:  2\n"
     ]
    }
   ],
   "source": [
    "#numbers = tuple(map(int, input(\"Enter 10 numbers separated by space: \").split()))\n",
    "numbers=(2,4,6,8,10,12,14,16,18,20)\n",
    "total = sum(numbers)\n",
    "average = total / len(numbers)\n",
    "largest = max(numbers)\n",
    "smallest = min(numbers)\n",
    "print(f\"Tuple: \",numbers)\n",
    "print(f\"Sum: \",total)\n",
    "print(f\"Average: \",average)\n",
    "print(f\"Largest element: \",largest)\n",
    "print(f\"Smallest element: \",smallest)"
   ]
  },
  {
   "cell_type": "code",
   "execution_count": 8,
   "id": "eda9478b",
   "metadata": {},
   "outputs": [
    {
     "name": "stdout",
     "output_type": "stream",
     "text": [
      "Set A: {2, 4, 6, 8, 10, 12}\n",
      "Set B: {16, 4, 20, 8, 12}\n",
      "Union  {2, 4, 6, 8, 10, 12, 16, 20}\n",
      "Intersection  {8, 4, 12}\n",
      "Symmetric difference of A and B:  {16, 2, 20, 6, 10}\n"
     ]
    }
   ],
   "source": [
    "#A = set(map(int, input(\"Enter elements of set A separated by space: \").split()))\n",
    "# B = set(map(int, input(\"Enter elements of set B separated by space: \").split()))\n",
    "A={2,4,6,8,10,12}\n",
    "print(\"Set A:\", A)\n",
    "B={4,8,12,16,20}\n",
    "print(\"Set B:\", B)\n",
    "print(\"Union \",A|B)\n",
    "print(\"Intersection \",A&B)\n",
    "print(\"Symmetric difference of A and B: \",A^B)"
   ]
  },
  {
   "cell_type": "code",
   "execution_count": 7,
   "id": "5f584cf6",
   "metadata": {},
   "outputs": [
    {
     "name": "stdout",
     "output_type": "stream",
     "text": [
      "Enter a string: an apple a day keeps the doctor away\n",
      "a\n",
      "an\n",
      "apple\n",
      "away\n",
      "day\n",
      "doctor\n",
      "keeps\n",
      "the\n"
     ]
    }
   ],
   "source": [
    "string = input(\"Enter a string: \")\n",
    "words = set(string.split())\n",
    "for word in sorted(words):\n",
    "    print(word)"
   ]
  },
  {
   "cell_type": "code",
   "execution_count": 10,
   "id": "9856d462",
   "metadata": {},
   "outputs": [
    {
     "name": "stdout",
     "output_type": "stream",
     "text": [
      "Enter a string: I love Model Engineering\n",
      "The length of  I is  1\n",
      "The length of  love is  4\n",
      "The length of  Model is  5\n",
      "The length of  Engineering is  11\n",
      "Average word length:  5.25\n"
     ]
    }
   ],
   "source": [
    "string = input(\"Enter a string: \")\n",
    "words = string.split()\n",
    "for word in words:\n",
    "    print(\"The length of \",word,\"is \",(len(word)))\n",
    "unique_lengths = set(len(word) for word in words)\n",
    "average_length = sum(unique_lengths) / len(unique_lengths)\n",
    "print(\"Average word length: \",average_length)"
   ]
  },
  {
   "cell_type": "code",
   "execution_count": 12,
   "id": "9e0efebb",
   "metadata": {},
   "outputs": [
    {
     "name": "stdout",
     "output_type": "stream",
     "text": [
      "Mean:  11.0\n",
      "Median:  11.0\n",
      "Standard deviation:  5.744562646538029\n"
     ]
    }
   ],
   "source": [
    "numbers=[2,4,6,8,10,12,14,16,18,20]\n",
    "n=len(numbers)\n",
    "mean = sum(numbers) / n\n",
    "\n",
    "sorted_numbers = sorted(numbers)\n",
    "if n % 2 == 0:\n",
    "    median = (sorted_numbers[n // 2 - 1] + sorted_numbers[n // 2]) / 2\n",
    "else:\n",
    "    median = sorted_numbers[n // 2]\n",
    "\n",
    "sum_squares = sum((x - mean) ** 2 for x in numbers)\n",
    "std_dev = (sum_squares / n) ** 0.5\n",
    "\n",
    "print(\"Mean: \",mean)\n",
    "print(\"Median: \",median)\n",
    "print(\"Standard deviation: \",std_dev)"
   ]
  },
  {
   "cell_type": "code",
   "execution_count": 13,
   "id": "dc24a847",
   "metadata": {},
   "outputs": [
    {
     "name": "stdout",
     "output_type": "stream",
     "text": [
      "Integers: [1, 4, 7]\n",
      "Floating-point numbers: [2.0, 5.5, 8.8]\n",
      "Strings: ['three', 'six', 'nine']\n"
     ]
    }
   ],
   "source": [
    "A = [1, 2.0, \"three\", 4, 5.5, \"six\", 7, 8.8, \"nine\"]\n",
    "\n",
    "int_list = []\n",
    "float_list = []\n",
    "str_list = []\n",
    "\n",
    "for item in A:\n",
    "    if type(item) == int:\n",
    "        int_list.append(item)\n",
    "    elif type(item) == float:\n",
    "        float_list.append(item)\n",
    "    elif type(item) == str:\n",
    "        str_list.append(item)\n",
    "print(\"Integers:\", int_list)\n",
    "print(\"Floating-point numbers:\", float_list)\n",
    "print(\"Strings:\", str_list)\n"
   ]
  },
  {
   "cell_type": "code",
   "execution_count": 15,
   "id": "19322a56",
   "metadata": {},
   "outputs": [
    {
     "name": "stdout",
     "output_type": "stream",
     "text": [
      "Items  sorted in ascending order\n"
     ]
    }
   ],
   "source": [
    "A = [1, 2, 3, 4, 5]\n",
    "\n",
    "if A == sorted(A):\n",
    "    print(\"Items  sorted in ascending order\")\n",
    "\n",
    "elif A == sorted(A, reverse=True):\n",
    "    print(\"Items  sorted in descending order\")\n",
    "\n",
    "else:\n",
    "    print(\"Items not sorted\")"
   ]
  },
  {
   "cell_type": "code",
   "execution_count": 17,
   "id": "f439fb45",
   "metadata": {},
   "outputs": [
    {
     "name": "stdout",
     "output_type": "stream",
     "text": [
      "Before  10 20 20 30 40\n",
      "After Duplicates removed: 40 10 20 30\n"
     ]
    }
   ],
   "source": [
    "A= [10,20,20,30,40]\n",
    "B = set(A)\n",
    "print(\"Before \",*A)\n",
    "print(\"After Duplicates removed:\", *B)"
   ]
  },
  {
   "cell_type": "code",
   "execution_count": 20,
   "id": "96f2dcb9",
   "metadata": {},
   "outputs": [
    {
     "name": "stdout",
     "output_type": "stream",
     "text": [
      "Number(s) with the maximum frequency: {40, 60}\n"
     ]
    }
   ],
   "source": [
    "\n",
    "A = [10, 20, 30, 40, 40, 40, 50, 50,60,60,60]\n",
    "max_freq = 0\n",
    "max_nums = []\n",
    "for num in A:\n",
    "    freq = A.count(num)\n",
    "        \n",
    "    if freq > max_freq:\n",
    "        max_freq = freq\n",
    "        max_nums = [num]\n",
    "    \n",
    "    elif freq == max_freq:\n",
    "        max_nums.append(num)\n",
    "print(\"Number(s) with the maximum frequency:\", set(max_nums))\n"
   ]
  }
 ],
 "metadata": {
  "kernelspec": {
   "display_name": "Python 3 (ipykernel)",
   "language": "python",
   "name": "python3"
  },
  "language_info": {
   "codemirror_mode": {
    "name": "ipython",
    "version": 3
   },
   "file_extension": ".py",
   "mimetype": "text/x-python",
   "name": "python",
   "nbconvert_exporter": "python",
   "pygments_lexer": "ipython3",
   "version": "3.9.12"
  }
 },
 "nbformat": 4,
 "nbformat_minor": 5
}
